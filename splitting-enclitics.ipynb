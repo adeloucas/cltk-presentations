{
 "cells": [
  {
   "cell_type": "code",
   "execution_count": 1,
   "metadata": {},
   "outputs": [],
   "source": [
    "# Imports\n",
    "\n",
    "import csv\n",
    "import random\n",
    "\n",
    "from collections import Counter\n",
    "\n",
    "import nltk\n",
    "\n",
    "import pickle\n",
    "\n",
    "from pprint import pprint"
   ]
  },
  {
   "cell_type": "code",
   "execution_count": 2,
   "metadata": {},
   "outputs": [],
   "source": [
    "# Load entire CLTK Latin Library corpus\n",
    "\n",
    "from cltk.corpus.readers import get_corpus_reader\n",
    "reader = get_corpus_reader(language='latin', corpus_name='latin_text_latin_library')\n",
    "raw = reader.raw()\n",
    "filecount = len(reader.fileids())\n",
    "# rough_wordcount = len(list(reader.words()))"
   ]
  },
  {
   "cell_type": "code",
   "execution_count": 3,
   "metadata": {},
   "outputs": [
    {
     "name": "stdout",
     "output_type": "stream",
     "text": [
      "There are 2141 files in this corpus.\n"
     ]
    }
   ],
   "source": [
    "print(f'There are {filecount} files in this corpus.')\n",
    "# print(f'There are (roughly) {rough_wordcount} words in this corpus.')"
   ]
  },
  {
   "cell_type": "code",
   "execution_count": 4,
   "metadata": {},
   "outputs": [
    {
     "name": "stdout",
     "output_type": "stream",
     "text": [
      "There are 14912 words that end with -ve in this corpus.\n"
     ]
    }
   ],
   "source": [
    "# Count words that end with ve\n",
    "\n",
    "ve_words = [word.lower() for word in raw.split() if word.endswith('ve')]\n",
    "print(f'There are {len(ve_words)} words that end with -ve in this corpus.')"
   ]
  },
  {
   "cell_type": "code",
   "execution_count": 5,
   "metadata": {},
   "outputs": [
    {
     "name": "stdout",
     "output_type": "stream",
     "text": [
      "[('sive', 8442), ('neve', 467), ('grave', 428), ('iove', 300), ('breve', 235), ('cave', 230), ('leve', 186), ('nave', 147), ('quidve', 93), ('suave', 87), ('quive', 78), ('nive', 55), ('quaeve', 51), ('quove', 50), ('salve', 50), ('bove', 50), ('cive', 48), ('vive', 43), ('prave', 41), ('pluresve', 39), ('minusve', 38), ('solve', 36), ('intempestive', 35), ('abusive', 35), ('aliave', 33)]\n"
     ]
    }
   ],
   "source": [
    "# Get frequency count for -ve words\n",
    "\n",
    "print(Counter(ve_words).most_common(25))"
   ]
  },
  {
   "cell_type": "code",
   "execution_count": 6,
   "metadata": {},
   "outputs": [
    {
     "name": "stdout",
     "output_type": "stream",
     "text": [
      "There are 130 words with enclitics.\n",
      "Some examples include: adipiscendive, aliamve, aliave, aliisve, aliorumve, aliove, aliudve, aliumve, argentove, bonisve\n",
      "\n",
      "\n",
      "There are 70 words without enclitics.\n",
      "Some examples include: abusive, active, adiective, affirmative, agave, appositive, ave, bove, breve, calve\n"
     ]
    }
   ],
   "source": [
    "# Load 200 tagged examples of words with -ve enclitics vs. words that end with -ve\n",
    "\n",
    "with open('data/enclitics.csv', 'r') as f:\n",
    "    reader = csv.reader(f, delimiter='\\t')\n",
    "    options_ = list(reader)\n",
    "    \n",
    "options = []\n",
    "for option in options_:\n",
    "    o = (option[0], option[1])\n",
    "    multiple = int(option[2])\n",
    "    options.extend([o]*multiple)    \n",
    "    \n",
    "has_enc = set([option[0] for option in options if int(option[1]) is 1])\n",
    "no_enc = set([option[0] for option in options if int(option[1]) is 0])    \n",
    "\n",
    "print(f'There are {len(has_enc)} words with enclitics.' )\n",
    "print('Some examples include: {}'.format(', '.join(sorted(has_enc)[:10])))\n",
    "print('\\n')\n",
    "print(f'There are {len(no_enc)} words without enclitics.' )\n",
    "print('Some examples include: {}'.format(', '.join(sorted(no_enc)[:10])))"
   ]
  },
  {
   "cell_type": "code",
   "execution_count": 7,
   "metadata": {},
   "outputs": [],
   "source": [
    "# Define some features for classification\n",
    "\n",
    "def enclitics_features(word):\n",
    "    return {'last_1_letters': word[-1:],\n",
    "            'last_2_letters': word[-2:],\n",
    "            'last_3_letters': word[-3:],\n",
    "            'last_4_letters': word[-4:],\n",
    "            'last_5_letters': word[-5:],\n",
    "            'first_1_letters': word[0],\n",
    "            'first_2_letters': word[:2],\n",
    "            'first_3_letters': word[:3],\n",
    "            'first_4_letters': word[:4],\n",
    "            'length_gt_5': len(word) > 5,\n",
    "           }"
   ]
  },
  {
   "cell_type": "code",
   "execution_count": 8,
   "metadata": {},
   "outputs": [],
   "source": [
    "# Set up classifier, spec. Naive Bayers classifier\n",
    "\n",
    "random.shuffle(options)\n",
    "featuresets = [(enclitics_features(n), g) for (n,g) in options]\n",
    "train_set, test_set = featuresets[10000:], featuresets[10000:]\n",
    "classifier = nltk.NaiveBayesClassifier.train(train_set)"
   ]
  },
  {
   "cell_type": "code",
   "execution_count": 9,
   "metadata": {},
   "outputs": [
    {
     "name": "stdout",
     "output_type": "stream",
     "text": [
      "0.9813404417364814\n"
     ]
    }
   ],
   "source": [
    "# Give accuracy \n",
    "\n",
    "print(nltk.classify.accuracy(classifier, test_set))"
   ]
  },
  {
   "cell_type": "code",
   "execution_count": 10,
   "metadata": {},
   "outputs": [
    {
     "name": "stdout",
     "output_type": "stream",
     "text": [
      "Most Informative Features\n",
      "         first_1_letters = 'm'                 1 : 0      =     48.1 : 1.0\n",
      "          last_4_letters = 'aeve'              1 : 0      =     38.7 : 1.0\n",
      "          last_4_letters = 'nove'              1 : 0      =     36.2 : 1.0\n",
      "             length_gt_5 = True                1 : 0      =     32.9 : 1.0\n",
      "         first_1_letters = 'd'                 1 : 0      =     28.7 : 1.0\n",
      "         first_1_letters = 'f'                 1 : 0      =     25.4 : 1.0\n",
      "          last_4_letters = 'sive'              0 : 1      =     25.0 : 1.0\n",
      "          last_4_letters = 'dive'              1 : 0      =     19.5 : 1.0\n",
      "          last_5_letters = 'ssive'             1 : 0      =     18.9 : 1.0\n",
      "         first_2_letters = 'cu'                1 : 0      =     18.3 : 1.0\n"
     ]
    }
   ],
   "source": [
    "# Show most informative features\n",
    "\n",
    "classifier.show_most_informative_features(10)"
   ]
  },
  {
   "cell_type": "code",
   "execution_count": 11,
   "metadata": {},
   "outputs": [
    {
     "name": "stdout",
     "output_type": "stream",
     "text": [
      "There were 331 errors out of 12626.\n",
      "\n",
      "Here are 10 examples...\n",
      "correct=0        guess=1        name=active                        \n",
      "correct=0        guess=1        name=adiective                     \n",
      "correct=0        guess=1        name=affirmative                   \n",
      "correct=0        guess=1        name=agave                         \n",
      "correct=0        guess=1        name=appositive                    \n",
      "correct=0        guess=1        name=calve                         \n",
      "correct=0        guess=1        name=comparative                   \n",
      "correct=0        guess=1        name=conclave                      \n",
      "correct=0        guess=1        name=curve                         \n",
      "correct=0        guess=1        name=declive                       \n"
     ]
    }
   ],
   "source": [
    "# Review errors from devtest\n",
    "\n",
    "errors = []\n",
    "for (name, tag) in options:\n",
    "    guess = classifier.classify(enclitics_features(name))\n",
    "    if guess != tag:\n",
    "        errors.append((tag, guess, name))\n",
    "\n",
    "print('There were {} errors out of {}.'.format(len(errors), len(options)))\n",
    "print('\\nHere are 10 examples...')\n",
    "        \n",
    "for (tag, guess, name) in sorted(set(errors))[:10]:\n",
    "    print('correct=%-8s guess=%-8s name=%-30s' % (tag, guess, name))"
   ]
  },
  {
   "cell_type": "code",
   "execution_count": 12,
   "metadata": {},
   "outputs": [
    {
     "name": "stdout",
     "output_type": "stream",
     "text": [
      "CPU times: user 169 µs, sys: 1 µs, total: 170 µs\n",
      "Wall time: 179 µs\n"
     ]
    },
    {
     "data": {
      "text/plain": [
       "'0'"
      ]
     },
     "execution_count": 12,
     "metadata": {},
     "output_type": "execute_result"
    }
   ],
   "source": [
    "%%time\n",
    "\n",
    "# Time classifier\n",
    "\n",
    "classifier.classify(enclitics_features('neve'))"
   ]
  },
  {
   "cell_type": "code",
   "execution_count": 13,
   "metadata": {},
   "outputs": [],
   "source": [
    "# Save a dictionary into a pickle file.\n",
    "\n",
    "pickle.dump(classifier, open('models/ve_splitter.p', 'wb'))"
   ]
  },
  {
   "cell_type": "code",
   "execution_count": 14,
   "metadata": {},
   "outputs": [],
   "source": [
    "# Work from pickled model\n",
    "\n",
    "classifier = pickle.load(open('models/ve_splitter.p', 'rb'))"
   ]
  },
  {
   "cell_type": "code",
   "execution_count": 15,
   "metadata": {},
   "outputs": [],
   "source": [
    "# Write function to validate input\n",
    "\n",
    "def is_ve_enclitic(word, classifier, features):\n",
    "    if word.endswith('ve'):\n",
    "        return int(classifier.classify(features(word)))\n",
    "    else:\n",
    "        return 0"
   ]
  },
  {
   "cell_type": "code",
   "execution_count": 16,
   "metadata": {},
   "outputs": [
    {
     "name": "stdout",
     "output_type": "stream",
     "text": [
      "CPU times: user 181 µs, sys: 1 µs, total: 182 µs\n",
      "Wall time: 191 µs\n"
     ]
    },
    {
     "data": {
      "text/plain": [
       "0"
      ]
     },
     "execution_count": 16,
     "metadata": {},
     "output_type": "execute_result"
    }
   ],
   "source": [
    "%%time\n",
    "is_ve_enclitic('neve', classifier=classifier, features=enclitics_features)"
   ]
  }
 ],
 "metadata": {
  "kernelspec": {
   "display_name": "Python 3",
   "language": "python",
   "name": "python3"
  },
  "language_info": {
   "codemirror_mode": {
    "name": "ipython",
    "version": 3
   },
   "file_extension": ".py",
   "mimetype": "text/x-python",
   "name": "python",
   "nbconvert_exporter": "python",
   "pygments_lexer": "ipython3",
   "version": "3.7.3"
  }
 },
 "nbformat": 4,
 "nbformat_minor": 2
}
