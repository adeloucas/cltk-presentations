{
 "cells": [
  {
   "cell_type": "markdown",
   "metadata": {},
   "source": [
    "# Building a Text Analysis Pipeline for Ancient Languages with CLTK"
   ]
  },
  {
   "cell_type": "markdown",
   "metadata": {},
   "source": [
    "This workshop will introduce the Classical Language Toolkit, an open-source Python framework dedicated to text analysis and natural language processing for historical languages. Participants will be taken through the basic stages of a text analysis pipeline, namely corpus loading, preprocessing, sentence and word tokenization, lemmatization, part-of-speech and morphological tagging, prosody identification, and more. Examples will given primarily using Latin texts (and English translations), though some attention will be given to other languages supported by the project, including Ancient Greek and Akkadian. Participants are encouraged to bring their laptops; the demonstration can be followed along with interactively in a web browser without any installation or setup."
   ]
  },
  {
   "cell_type": "markdown",
   "metadata": {},
   "source": [
    "## Setup"
   ]
  },
  {
   "cell_type": "code",
   "execution_count": 1,
   "metadata": {},
   "outputs": [],
   "source": [
    "from pprint import pprint #RUN CELLS BY PRESSING SHIFT & RETURN TOGETHER"
   ]
  },
  {
   "cell_type": "markdown",
   "metadata": {},
   "source": [
    "## Working with CLTK Corpora"
   ]
  },
  {
   "cell_type": "markdown",
   "metadata": {},
   "source": [
    "### Installing Corpora"
   ]
  },
  {
   "cell_type": "code",
   "execution_count": 2,
   "metadata": {},
   "outputs": [],
   "source": [
    "## Set up corpora\n",
    "\n",
    "## You will need the models/datasets that the new lemmatizer uses\n",
    "## Note that this will generate an error if this and older \n",
    "## version of this corpus is already installed. If that happens,\n",
    "## backup the old version, move or delete it, and reimport the corpus.\n",
    "\n",
    "#from cltk.corpus.utils.importer import CorpusImporter\n",
    "\n",
    "#corpus_importer = CorpusImporter('latin')\n",
    "#corpus_importer.list_corpora\n",
    "\n",
    "#corpus_importer.import_corpus('latin_models_cltk')\n",
    "\n",
    "## We will be using the Latin Library corpus for today's workshop,\n",
    "## so we will also need to import that as well.\n",
    "\n",
    "#corpus_importer.import_corpus('latin_text_latin_library')"
   ]
  },
  {
   "cell_type": "markdown",
   "metadata": {},
   "source": [
    "### Loading a CLTK corpus"
   ]
  },
  {
   "cell_type": "code",
   "execution_count": 3,
   "metadata": {},
   "outputs": [
    {
     "name": "stdout",
     "output_type": "stream",
     "text": [
      "['12tables.txt', '1644.txt', 'abbofloracensis.txt', 'abelard/dialogus.txt', 'abelard/epistola.txt', 'abelard/historia.txt', 'addison/barometri.txt', 'addison/burnett.txt', 'addison/hannes.txt', 'addison/machinae.txt', 'addison/pax.txt', 'addison/praelium.txt', 'addison/preface.txt', 'addison/resurr.txt', 'addison/sphaer.txt', 'adso.txt', 'aelredus.txt', 'agnes.txt', 'alanus/alanus1.txt', 'alanus/alanus2.txt', 'albertanus/albertanus.arsloquendi.txt', 'albertanus/albertanus.liberconsol.txt', 'albertanus/albertanus.sermo.txt', 'albertanus/albertanus.sermo1.txt', 'albertanus/albertanus.sermo2.txt', 'albertanus/albertanus.sermo3.txt', 'albertanus/albertanus.sermo4.txt', 'albertanus/albertanus1.txt', 'albertanus/albertanus2.txt', 'albertanus/albertanus3.txt', 'albertanus/albertanus4.txt', 'albertofaix/hist1.txt', 'albertofaix/hist10.txt', 'albertofaix/hist11.txt', 'albertofaix/hist12.txt', 'albertofaix/hist2.txt', 'albertofaix/hist3.txt', 'albertofaix/hist4.txt', 'albertofaix/hist5.txt', 'albertofaix/hist6.txt', 'albertofaix/hist7.txt', 'albertofaix/hist8.txt', 'albertofaix/hist9.txt', 'alcuin/cella.txt', 'alcuin/conflictus.txt', 'alcuin/epitaphium.txt', 'alcuin/luscinia.txt', 'alcuin/propos.txt', 'alcuin/rec.txt', 'alcuin/rhetorica.txt']\n"
     ]
    }
   ],
   "source": [
    "# Get the Latin Library corpus\n",
    "\n",
    "from cltk.corpus.readers import get_corpus_reader\n",
    "ll = get_corpus_reader(language='latin', \n",
    "                       corpus_name='latin_text_latin_library')\n",
    "\n",
    "# The CLTK Latin Library corpus is a web-scraped collection of plaintext files\n",
    "# from thelatinlibrary.com.\n",
    "\n",
    "# We can access the individual files as follows...\n",
    "\n",
    "files = ll.fileids()\n",
    "print(files[:50]) # The first 50 files in the corpus\n",
    "\n",
    "# Note the [:50] slice to limit our list to the first 50 items."
   ]
  },
  {
   "cell_type": "code",
   "execution_count": 6,
   "metadata": {},
   "outputs": [
    {
     "name": "stdout",
     "output_type": "stream",
     "text": [
      "There are 2141 files in this corpus.\n"
     ]
    }
   ],
   "source": [
    "# Stats\n",
    "\n",
    "file_count = len(files)\n",
    "print(f'There are {file_count} files in this corpus.')"
   ]
  },
  {
   "cell_type": "code",
   "execution_count": 9,
   "metadata": {},
   "outputs": [
    {
     "name": "stdout",
     "output_type": "stream",
     "text": [
      "['vergil/aen1.txt', 'vergil/aen10.txt', 'vergil/aen11.txt', 'vergil/aen12.txt', 'vergil/aen2.txt', 'vergil/aen3.txt', 'vergil/aen4.txt', 'vergil/aen5.txt', 'vergil/aen6.txt', 'vergil/aen7.txt', 'vergil/aen8.txt', 'vergil/aen9.txt', 'vergil/ec1.txt', 'vergil/ec10.txt', 'vergil/ec2.txt', 'vergil/ec3.txt', 'vergil/ec4.txt', 'vergil/ec5.txt', 'vergil/ec6.txt', 'vergil/ec7.txt', 'vergil/ec8.txt', 'vergil/ec9.txt', 'vergil/geo1.txt', 'vergil/geo2.txt', 'vergil/geo3.txt', 'vergil/geo4.txt']\n"
     ]
    }
   ],
   "source": [
    "virgil_files = [file for file in files if \"vergil\" in file]\n",
    "print(virgil_files)"
   ]
  },
  {
   "cell_type": "code",
   "execution_count": 10,
   "metadata": {},
   "outputs": [
    {
     "name": "stdout",
     "output_type": "stream",
     "text": [
      "Arma virumque cano, Troiae qui primus ab oris \n",
      "Italiam, fato profugus, Laviniaque venit \n",
      "litora, multum ille et terris iactatus et alto \n",
      "vi superum saevae memorem Iunonis ob iram; \n",
      "multa quoque et bello passus, dum conderet urbem,    5 \n",
      "inferretque deos Latio, genus unde Latinum, \n",
      "Albanique patres, atque altae moenia Romae.\n",
      " \n",
      "\n",
      " \n",
      "Musa, mihi causas memora, quo numine laeso, \n",
      "quidve dolens, regina deum tot volvere casus \n",
      "insignem pietate virum, tot adire labores    10 \n",
      "impulerit. Tantaene animis caelestibus irae?\n"
     ]
    }
   ],
   "source": [
    "print(ll.raw(virgil_files[0])[101:616])"
   ]
  },
  {
   "cell_type": "code",
   "execution_count": 11,
   "metadata": {},
   "outputs": [
    {
     "name": "stdout",
     "output_type": "stream",
     "text": [
      "Vergil: Aeneid I\n",
      "\t\t \n",
      "\n",
      "\t\t \n",
      "\t\t\n",
      "\t\t \n",
      "\t\t\n",
      "\t\t \n",
      "\t\t \n",
      "\t \n",
      "\t\n",
      " \n",
      "\n",
      "\n",
      " P. VERGILI MARONIS AENEIDOS LIBER PRIMVS \n",
      "\n",
      "\n",
      " \n",
      "\n",
      "Arma virumque cano, Troiae qui primus ab oris \n",
      "Italiam, fato profugus, Laviniaque venit \n",
      "litora, mu\n"
     ]
    }
   ],
   "source": [
    "print(ll.raw(virgil_files[0])[:200])"
   ]
  },
  {
   "cell_type": "code",
   "execution_count": 12,
   "metadata": {},
   "outputs": [
    {
     "name": "stdout",
     "output_type": "stream",
     "text": [
      "dias,' inquit, 'Danaum, casusque tuorum, \n",
      "erroresque tuos; nam te iam septima portat    755 \n",
      "omnibus errantem terris et fluctibus aestas.'\n",
      " \n",
      "\n",
      " \n",
      "\t \n",
      "\t\t Vergil \n",
      "\t\t The Latin Library \n",
      "\t\t The Classics Page\n"
     ]
    }
   ],
   "source": [
    "print(ll.raw(virgil_files[0])[-200:])"
   ]
  },
  {
   "cell_type": "code",
   "execution_count": 13,
   "metadata": {},
   "outputs": [
    {
     "name": "stdout",
     "output_type": "stream",
     "text": [
      "6370\n"
     ]
    }
   ],
   "source": [
    "word_count = len(list(ll.words(virgil_files[0])))\n",
    "print(word_count)"
   ]
  },
  {
   "cell_type": "code",
   "execution_count": 14,
   "metadata": {},
   "outputs": [
    {
     "name": "stdout",
     "output_type": "stream",
     "text": [
      "299\n"
     ]
    }
   ],
   "source": [
    "sent_count = len(list(ll.sents(virgil_files[0])))\n",
    "print(sent_count)"
   ]
  },
  {
   "cell_type": "markdown",
   "metadata": {},
   "source": [
    "## Preprocessing"
   ]
  },
  {
   "cell_type": "code",
   "execution_count": 15,
   "metadata": {},
   "outputs": [],
   "source": [
    "# Imports for preprocessing\n",
    "\n",
    "import re # Regex module, useful for pattern matching\n",
    "import html # Useful for handling entities\n",
    "\n",
    "# Import/load a CLTK tool for normalizing i/j and u/v in Latin texts\n",
    "from cltk.stem.latin.j_v import JVReplacer\n",
    "replacer = JVReplacer()"
   ]
  },
  {
   "cell_type": "code",
   "execution_count": 16,
   "metadata": {},
   "outputs": [],
   "source": [
    "def preprocess(text):\n",
    "\n",
    "    # Remove Latin Library-specific paratexts with regex\n",
    "    \n",
    "    remove_list = [\n",
    "            r'\\bP. VERGILI MARONIS AENEIDOS LIBER .+\\b',\n",
    "            r'Vergil: Aeneid .+',\n",
    "            r'\\bThe Latin Library\\b',\n",
    "            r'\\bThe Classics Page\\b',\n",
    "            r'\\bVergil\\b',\n",
    "        ]\n",
    "    \n",
    "    for pattern in remove_list:\n",
    "        text = re.sub(pattern, '', text)\n",
    "\n",
    "    # Remove html entities and related html artifacts\n",
    "    \n",
    "    text = html.unescape(text) # Handle html entities\n",
    "    text = re.sub(r'&nbsp;?', ' ',text) #&nbsp; stripped incorrectly in corpus?\n",
    "    text = re.sub(r'\\x00',' ',text) #Another space problem?\n",
    "    text = re.sub(r' \\xa0 ', '    ', text)\n",
    "    \n",
    "    # Lowercase text\n",
    "    text = text.lower()\n",
    "\n",
    "    # Normalize text\n",
    "    text = replacer.replace(text) #Normalize u/v & i/j\n",
    "    \n",
    "    # Remove punctuation with translate\n",
    "    punctuation =\"\\\"#$%&\\'()+,-/:;<=>@[\\]^_`{|}~.?!«»—\"\n",
    "    translator = str.maketrans({key: \" \" for key in punctuation})\n",
    "    text = text.translate(translator)\n",
    "    \n",
    "    # Remove numbers\n",
    "    translator = str.maketrans({key: \" \" for key in '0123456789'})\n",
    "    text = text.translate(translator)\n",
    "    \n",
    "    # Handle spacing\n",
    "    text = re.sub('[ ]+',' ', text) # Remove double spaces\n",
    "    text = re.sub('\\t',' ', text) # Remove tabs\n",
    "    text = re.sub('^\\s+','', text)\n",
    "    text = re.sub(' \\n', '\\n', text)\n",
    "    text = re.sub('\\n\\n', '~', text)\n",
    "    text = re.sub('~+', '\\n\\n', text)\n",
    "    \n",
    "    return text.strip()"
   ]
  },
  {
   "cell_type": "code",
   "execution_count": 17,
   "metadata": {},
   "outputs": [
    {
     "name": "stdout",
     "output_type": "stream",
     "text": [
      "Vergil: Aeneid I\n",
      "\t\t \n",
      "\n",
      "\t\t \n",
      "\t\t\n",
      "\t\t \n",
      "\t\t\n",
      "\t\t \n",
      "\t\t \n",
      "\t \n",
      "\t\n",
      " \n",
      "\n",
      "\n",
      " P. VERGILI MARONIS AENEIDOS LIBER PRIMVS \n",
      "\n",
      "\n",
      " \n",
      "\n",
      "Arma virumque cano, Troiae qui primus ab oris \n",
      "Italiam, fato profugus, Laviniaque venit \n",
      "litora, multum ille et terris iactatus et alto \n",
      "vi superum saevae memorem Iunonis ob iram; \n",
      "multa quoque et bello passus, dum conderet urbem,    5 \n",
      "inferretque deos Latio, genus unde Latinum, \n",
      "Albanique patres, atque altae moenia Romae.\n",
      " \n",
      "\n",
      " \n",
      "Musa, mihi causas memora, quo numine laeso, \n",
      "quidve dolens, regina d\n"
     ]
    }
   ],
   "source": [
    "virgil_raw = ll.raw(virgil_files[0])\n",
    "print(virgil_raw[:500])"
   ]
  },
  {
   "cell_type": "code",
   "execution_count": 18,
   "metadata": {},
   "outputs": [
    {
     "name": "stdout",
     "output_type": "stream",
     "text": [
      "arma uirumque cano troiae qui primus ab oris\n",
      "italiam fato profugus lauiniaque uenit\n",
      "litora multum ille et terris iactatus et alto\n",
      "ui superum saeuae memorem iunonis ob iram\n",
      "multa quoque et bello passus dum conderet urbem\n",
      "inferretque deos latio genus unde latinum\n",
      "albanique patres atque altae moenia romae\n",
      "\n",
      "musa mihi causas memora quo numine laeso\n",
      "quidue dolens regina deum tot uoluere casus\n",
      "insignem pietate uirum tot adire labores\n",
      "impulerit tantaene animis caelestibus irae\n",
      "\n",
      "urbs antiqua fuit tyrii t\n"
     ]
    }
   ],
   "source": [
    "virgil_pp = preprocess(ll.raw(virgil_files[0]))\n",
    "print(virgil_pp[:500])"
   ]
  },
  {
   "cell_type": "markdown",
   "metadata": {},
   "source": [
    "## Tokenization"
   ]
  },
  {
   "cell_type": "code",
   "execution_count": 19,
   "metadata": {},
   "outputs": [],
   "source": [
    "# Set up CLTK Latin word tokenizer\n",
    "\n",
    "from cltk.tokenize.word import WordTokenizer\n",
    "word_tokenizer = WordTokenizer('latin')"
   ]
  },
  {
   "cell_type": "code",
   "execution_count": 20,
   "metadata": {},
   "outputs": [
    {
     "name": "stdout",
     "output_type": "stream",
     "text": [
      "['arma', 'uirum', '-que', 'cano', 'troiae', 'qui', 'primus', 'ab', 'oris', 'italiam', 'fato', 'profugus', 'lauinia', '-que', 'uenit', 'litora', 'multum', 'ille', 'et', 'terris', 'iactatus', 'et', 'alto', 'ui', 'superum', 'saeuae', 'memorem', 'iunonis', 'ob', 'iram', 'multa', 'quoque', 'et', 'bello', 'passus', 'dum', 'conderet', 'urbem', 'inferret', '-que', 'deos', 'latio', 'genus', 'unde', 'latinum', 'albani', '-que', 'patres', 'atque', 'altae', 'moenia', 'romae', 'musa', 'mihi', 'causas', 'memora', 'quo', 'numine', 'laeso', 'quid', '-ue', 'dolens', 'regina', 'deum', 'tot', 'uoluere', 'casus', 'insignem', 'pietate', 'uirum', 'tot', 'adire', 'labores', 'impulerit', 'tantaene', 'animis', 'caelestibus', 'irae', 'urbs', 'antiqua', 'fuit', 'tyrii', 'tenuere', 'coloni', 'karthago', 'italiam', 'contra', 'tiberina', '-que', 'longe', 'ostia', 'diues', 'opum', 'studiis', '-que', 'asperrima', 'belli', 'quam', 'iuno', 'fertur', 'terris', 'magis', 'omnibus', 'unam', 'posthabita', 'coluisse', 'samo', 'hic', 'illius', 'arma', 'hic', 'currus', 'fuit', 'hoc', 'regnum', 'dea', 'gentibus', 'esse', 'si', 'qua', 'fata', 'sinant', 'iam', 'tum', 'tendit']\n",
      "\n",
      "\n",
      "There are 5160 tokens in Virgil 1.\n"
     ]
    }
   ],
   "source": [
    "# Here is what the same poem looks like as a list of tokens\n",
    "\n",
    "tokens = word_tokenizer.tokenize(virgil_pp)\n",
    "\n",
    "print(tokens[:125])\n",
    "print('\\n')\n",
    "print(f'There are {len(tokens)} tokens in Virgil 1.')"
   ]
  },
  {
   "cell_type": "markdown",
   "metadata": {},
   "source": [
    "## Lemmatization"
   ]
  },
  {
   "cell_type": "code",
   "execution_count": 21,
   "metadata": {},
   "outputs": [],
   "source": [
    "# # We need to import a data model to train the lemmatizer.\n",
    "\n",
    "# import os\n",
    "# from cltk.utils.file_operations import open_pickle\n",
    "\n",
    "# # Set up training sentences\n",
    "\n",
    "# rel_path = os.path.join('~/cltk_data/latin/model/latin_models_cltk/lemmata/backoff')\n",
    "# path = os.path.expanduser(rel_path)\n",
    "\n",
    "# # Check for presence of latin_pos_lemmatized_sents\n",
    "# file = 'latin_pos_lemmatized_sents.pickle'      \n",
    "\n",
    "# latin_pos_lemmatized_sents_path = os.path.join(path, file)\n",
    "# if os.path.isfile(latin_pos_lemmatized_sents_path):\n",
    "#     latin_pos_lemmatized_sents = open_pickle(latin_pos_lemmatized_sents_path)\n",
    "# else:\n",
    "#     latin_pos_lemmatized_sents = []\n",
    "#     print('The file %s is not available in cltk_data' % file)"
   ]
  },
  {
   "cell_type": "code",
   "execution_count": 22,
   "metadata": {},
   "outputs": [],
   "source": [
    "# # Set up CLTK Latin backoff lemmatizer\n",
    "\n",
    "# from cltk.lemmatize.latin.backoff import BackoffLatinLemmatizer\n",
    "# lemmatizer = BackoffLatinLemmatizer(latin_pos_lemmatized_sents)"
   ]
  },
  {
   "cell_type": "code",
   "execution_count": 23,
   "metadata": {},
   "outputs": [],
   "source": [
    "import pickle\n",
    "lemmatizer = pickle.load(open('./tools/lemmatizer.p','rb'))"
   ]
  },
  {
   "cell_type": "code",
   "execution_count": 24,
   "metadata": {},
   "outputs": [],
   "source": [
    "lemmas = lemmatizer.lemmatize(tokens)"
   ]
  },
  {
   "cell_type": "code",
   "execution_count": 25,
   "metadata": {},
   "outputs": [
    {
     "name": "stdout",
     "output_type": "stream",
     "text": [
      "[('arma', 'arma'), ('uirum', 'uir'), ('-que', '-que'), ('cano', 'cano'), ('troiae', 'troia'), ('qui', 'qui'), ('primus', 'primus'), ('ab', 'ab'), ('oris', 'ora'), ('italiam', 'italia'), ('fato', 'fatum'), ('profugus', 'profugus'), ('lauinia', 'lauinia'), ('-que', '-que'), ('uenit', 'uenio'), ('litora', 'litus'), ('multum', 'multus'), ('ille', 'ille'), ('et', 'et'), ('terris', 'terra'), ('iactatus', 'jacto'), ('et', 'et'), ('alto', 'altus'), ('ui', 'uis'), ('superum', 'superi'), ('saeuae', 'saevus'), ('memorem', 'memoro'), ('iunonis', 'iuno'), ('ob', 'ob'), ('iram', 'ira'), ('multa', 'multus'), ('quoque', 'quoque'), ('et', 'et'), ('bello', 'bellum'), ('passus', 'patior'), ('dum', 'dum'), ('conderet', 'condo'), ('urbem', 'urbs'), ('inferret', 'infero'), ('-que', '-que'), ('deos', 'deus'), ('latio', 'latium'), ('genus', 'genus'), ('unde', 'unde'), ('latinum', 'latinum'), ('albani', 'albani'), ('-que', '-que'), ('patres', 'pater'), ('atque', 'atque'), ('altae', 'alo'), ('moenia', 'moenia'), ('romae', 'roma'), ('musa', 'musa'), ('mihi', 'ego'), ('causas', 'causa'), ('memora', 'memoro'), ('quo', 'quo'), ('numine', 'numen'), ('laeso', 'laedo'), ('quid', 'quis'), ('-ue', '-ue'), ('dolens', 'doleo'), ('regina', 'regina'), ('deum', 'deus'), ('tot', 'tot'), ('uoluere', 'volvo'), ('casus', 'casus'), ('insignem', 'insignis'), ('pietate', 'pietas'), ('uirum', 'uir'), ('tot', 'tot'), ('adire', 'adeo'), ('labores', 'labor'), ('impulerit', 'impello'), ('tantaene', 'tantus'), ('animis', 'animus'), ('caelestibus', 'caelestis'), ('irae', 'ira'), ('urbs', 'urbs'), ('antiqua', 'antiquus'), ('fuit', 'sum'), ('tyrii', 'tyrii'), ('tenuere', 'teneo'), ('coloni', 'colonus'), ('karthago', 'karthago'), ('italiam', 'italia'), ('contra', 'contra'), ('tiberina', 'tiberinus'), ('-que', '-que'), ('longe', 'longus'), ('ostia', 'ostium'), ('diues', 'diues'), ('opum', 'opos'), ('studiis', 'studium'), ('-que', '-que'), ('asperrima', 'asper1'), ('belli', 'bellum'), ('quam', 'quam'), ('iuno', 'iuno'), ('fertur', 'fero')]\n"
     ]
    }
   ],
   "source": [
    "print(lemmas[:100])"
   ]
  },
  {
   "cell_type": "code",
   "execution_count": 26,
   "metadata": {},
   "outputs": [
    {
     "name": "stdout",
     "output_type": "stream",
     "text": [
      "[('arma', 'arma'),\n",
      " ('uirum', 'uir'),\n",
      " ('-que', '-que'),\n",
      " ('cano', 'cano'),\n",
      " ('troiae', 'troia'),\n",
      " ('qui', 'qui'),\n",
      " ('primus', 'primus'),\n",
      " ('ab', 'ab'),\n",
      " ('oris', 'ora'),\n",
      " ('italiam', 'italia'),\n",
      " ('fato', 'fatum'),\n",
      " ('profugus', 'profugus'),\n",
      " ('lauinia', 'lauinia'),\n",
      " ('-que', '-que'),\n",
      " ('uenit', 'uenio'),\n",
      " ('litora', 'litus'),\n",
      " ('multum', 'multus'),\n",
      " ('ille', 'ille'),\n",
      " ('et', 'et'),\n",
      " ('terris', 'terra'),\n",
      " ('iactatus', 'jacto'),\n",
      " ('et', 'et'),\n",
      " ('alto', 'altus'),\n",
      " ('ui', 'uis'),\n",
      " ('superum', 'superi')]\n"
     ]
    }
   ],
   "source": [
    "from pprint import pprint\n",
    "\n",
    "pprint(lemmas[:25])"
   ]
  },
  {
   "cell_type": "markdown",
   "metadata": {},
   "source": [
    "## POS & Morphological Tagging"
   ]
  },
  {
   "cell_type": "code",
   "execution_count": 27,
   "metadata": {},
   "outputs": [],
   "source": [
    "from cltk.tag.pos import POSTag\n",
    "\n",
    "tagger = POSTag('latin')"
   ]
  },
  {
   "cell_type": "code",
   "execution_count": 28,
   "metadata": {},
   "outputs": [
    {
     "name": "stdout",
     "output_type": "stream",
     "text": [
      "[('arma', 'N-P---NA-'),\n",
      " ('uirum', None),\n",
      " ('-', 'U--------'),\n",
      " ('que', 'C--------'),\n",
      " ('cano', None),\n",
      " ('troiae', 'N-S---FG-'),\n",
      " ('qui', 'P-P---MN-'),\n",
      " ('primus', 'A-S---MN-'),\n",
      " ('ab', 'R--------'),\n",
      " ('oris', 'N-P---NB-')]\n"
     ]
    }
   ],
   "source": [
    "pos_tags = tagger.tag_ngram_123_backoff(' '.join(tokens))\n",
    "pprint(pos_tags[:10])"
   ]
  },
  {
   "cell_type": "code",
   "execution_count": null,
   "metadata": {},
   "outputs": [],
   "source": [
    "# pos_tags_2 = tagger.tag_tnt(' '.join(tokens))\n",
    "# pprint(pos_tags_2[:10])"
   ]
  },
  {
   "cell_type": "markdown",
   "metadata": {},
   "source": [
    "## Prosody Tagging"
   ]
  },
  {
   "cell_type": "code",
   "execution_count": 29,
   "metadata": {},
   "outputs": [],
   "source": [
    "# import Levenshtein\n",
    "\n",
    "from cltk.prosody.latin.hexameter_scanner import HexameterScanner\n",
    "scanner = HexameterScanner()"
   ]
  },
  {
   "cell_type": "code",
   "execution_count": 30,
   "metadata": {},
   "outputs": [
    {
     "name": "stdout",
     "output_type": "stream",
     "text": [
      "['ārm', 'u', 'i', 'rūm', 'que', 'ca', 'nō', 'tro', 'jae', 'quī', 'pri', 'mus', 'ab', 'o', 'ris']\n",
      "-    UU -   U  U -   -  -   -   - U  U  - U \n"
     ]
    }
   ],
   "source": [
    "scansion = scanner.scan(virgil_pp[:44])\n",
    "print(scansion.syllables)\n",
    "print(scansion.scansion)"
   ]
  },
  {
   "cell_type": "code",
   "execution_count": 31,
   "metadata": {},
   "outputs": [],
   "source": [
    "from cltk.tokenize.line import LineTokenizer\n",
    "line_tokenizer = LineTokenizer('latin')"
   ]
  },
  {
   "cell_type": "code",
   "execution_count": 32,
   "metadata": {},
   "outputs": [],
   "source": [
    "lines = line_tokenizer.tokenize(virgil_pp)"
   ]
  },
  {
   "cell_type": "code",
   "execution_count": 33,
   "metadata": {},
   "outputs": [
    {
     "name": "stdout",
     "output_type": "stream",
     "text": [
      "-UU-UU-----UU-U\n",
      "-UU---UU--UUUU-U\n",
      "-UU-------UU-U\n",
      "-UU-UU-UU-UU-UU-U\n",
      "-UU-------UU-U\n",
      "---UU-UUUUU-UU-U\n",
      "-UU-------UU--\n",
      "-UUU--UUUUUUU-U\n",
      "-UUU-UUUUUUUUUUU-U\n",
      "---UUUUU-UUUUU-U\n"
     ]
    }
   ],
   "source": [
    "for line in lines[:10]:\n",
    "    scansion = scanner.scan(line)\n",
    "    print(scansion.scansion.replace(' ',''))"
   ]
  },
  {
   "cell_type": "markdown",
   "metadata": {},
   "source": [
    "## Named Entity Recognition"
   ]
  },
  {
   "cell_type": "code",
   "execution_count": 34,
   "metadata": {},
   "outputs": [
    {
     "name": "stdout",
     "output_type": "stream",
     "text": [
      "[('ut',),\n",
      " ('Venus',),\n",
      " (',',),\n",
      " ('ut',),\n",
      " ('Sirius', 'Entity'),\n",
      " (',',),\n",
      " ('ut',),\n",
      " ('Spica', 'Entity'),\n",
      " (',',),\n",
      " ('ut',),\n",
      " ('aliae',),\n",
      " ('quae',),\n",
      " ('primae',),\n",
      " ('dicuntur',),\n",
      " ('esse',),\n",
      " ('mangitudinis',),\n",
      " ('.',)]\n"
     ]
    }
   ],
   "source": [
    "from cltk.tag import ner\n",
    "\n",
    "\n",
    "\n",
    "text_str = \"\"\"ut Venus, ut Sirius, ut Spica, ut aliae quae primae dicuntur esse mangitudinis.\"\"\"\n",
    "\n",
    "\n",
    "pprint(ner.tag_ner('latin', input_text=text_str, output_type=list))"
   ]
  },
  {
   "cell_type": "code",
   "execution_count": 35,
   "metadata": {},
   "outputs": [],
   "source": [
    "def preprocess_2(text):\n",
    "\n",
    "    # Remove Latin Library-specific paratexts with regex\n",
    "    \n",
    "    remove_list = [\n",
    "            r'\\bP. VERGILI MARONIS AENEIDOS LIBER .+\\b',\n",
    "            r'Vergil: Aeneid .+',\n",
    "            r'\\bThe Latin Library\\b',\n",
    "            r'\\bThe Classics Page\\b',\n",
    "            r'\\bVergil\\b',\n",
    "        ]\n",
    "    \n",
    "    for pattern in remove_list:\n",
    "        text = re.sub(pattern, '', text)\n",
    "\n",
    "    # Remove html entities and related html artifacts\n",
    "    \n",
    "    text = html.unescape(text) # Handle html entities\n",
    "    text = re.sub(r'&nbsp;?', ' ',text) #&nbsp; stripped incorrectly in corpus?\n",
    "    text = re.sub(r'\\x00',' ',text) #Another space problem?\n",
    "    text = re.sub(r' \\xa0 ', '    ', text)\n",
    "    \n",
    "    # Lowercase text\n",
    "#     text = text.lower()\n",
    "\n",
    "    # Normalize text\n",
    "    text = replacer.replace(text) #Normalize u/v & i/j\n",
    "    \n",
    "    # Remove punctuation with translate\n",
    "    punctuation =\"\\\"#$%&\\'()+,-/:;<=>@[\\]^_`{|}~.?!«»—\"\n",
    "    translator = str.maketrans({key: \" \" for key in punctuation})\n",
    "    text = text.translate(translator)\n",
    "    \n",
    "    # Remove numbers\n",
    "    translator = str.maketrans({key: \" \" for key in '0123456789'})\n",
    "    text = text.translate(translator)\n",
    "    \n",
    "    # Handle spacing\n",
    "    text = re.sub('[ ]+',' ', text) # Remove double spaces\n",
    "    text = re.sub('\\t',' ', text) # Remove tabs\n",
    "    text = re.sub('^\\s+','', text)\n",
    "    text = re.sub(' \\n', '\\n', text)\n",
    "    text = re.sub('\\n\\n', '~', text)\n",
    "    text = re.sub('~+', '\\n\\n', text)\n",
    "    \n",
    "    return text.strip()"
   ]
  },
  {
   "cell_type": "code",
   "execution_count": 36,
   "metadata": {},
   "outputs": [
    {
     "name": "stdout",
     "output_type": "stream",
     "text": [
      "Arma uirumque cano Troiae qui primus ab oris\n",
      "Italiam fato profugus Lauiniaque uenit\n",
      "litora multum il\n"
     ]
    }
   ],
   "source": [
    "virgil_pp_2 = preprocess_2(ll.raw(virgil_files[0]))\n",
    "print(virgil_pp_2[:100])"
   ]
  },
  {
   "cell_type": "code",
   "execution_count": 37,
   "metadata": {},
   "outputs": [
    {
     "name": "stdout",
     "output_type": "stream",
     "text": [
      "[('Arma',),\n",
      " ('uirumque',),\n",
      " ('cano',),\n",
      " ('Troiae', 'Entity'),\n",
      " ('qui',),\n",
      " ('primus',),\n",
      " ('ab',),\n",
      " ('oris',),\n",
      " ('Italiam', 'Entity'),\n",
      " ('fato',),\n",
      " ('profugus',),\n",
      " ('Lauiniaque', 'Entity'),\n",
      " ('uenit',),\n",
      " ('litora',),\n",
      " ('multum',),\n",
      " ('ille',),\n",
      " ('et',),\n",
      " ('terris',),\n",
      " ('iactatus',),\n",
      " ('et',),\n",
      " ('alto',),\n",
      " ('ui',),\n",
      " ('superum',),\n",
      " ('saeuae',),\n",
      " ('memorem',)]\n"
     ]
    }
   ],
   "source": [
    "pprint(ner.tag_ner('latin', input_text=virgil_pp_2, output_type=list)[:25])"
   ]
  },
  {
   "cell_type": "markdown",
   "metadata": {},
   "source": [
    "## Sample Text Analyses & Visualizations"
   ]
  },
  {
   "cell_type": "markdown",
   "metadata": {},
   "source": [
    "### Counting Tokens"
   ]
  },
  {
   "cell_type": "code",
   "execution_count": 38,
   "metadata": {},
   "outputs": [],
   "source": [
    "from collections import Counter"
   ]
  },
  {
   "cell_type": "code",
   "execution_count": 40,
   "metadata": {},
   "outputs": [
    {
     "name": "stdout",
     "output_type": "stream",
     "text": [
      "[('-que', 252), ('et', 166), ('in', 49), ('per', 29), ('cum', 27), ('atque', 25), ('aut', 24), ('iam', 23), ('quae', 23), ('ad', 21), ('hic', 19), ('nec', 19), ('aeneas', 19), ('tum', 18), ('se', 18), ('te', 17), ('non', 17), ('sic', 16), ('est', 15), ('qui', 14), ('o', 14), ('nunc', 14), ('ab', 13), ('si', 13), ('haec', 13)]\n"
     ]
    }
   ],
   "source": [
    "word_count = Counter(tokens)\n",
    "print(word_count.most_common(25))"
   ]
  },
  {
   "cell_type": "code",
   "execution_count": 41,
   "metadata": {},
   "outputs": [
    {
     "name": "stdout",
     "output_type": "stream",
     "text": [
      "Top 25 words in Virgil 1:\n",
      "\n",
      "       TOKEN       COUNT       TOKEN %     RUNNING %   \n",
      "    1. -que        252         4.88%       4.88%       \n",
      "    2. et          166         3.22%       8.1%        \n",
      "    3. in          49          0.95%       9.05%       \n",
      "    4. per         29          0.56%       9.61%       \n",
      "    5. cum         27          0.52%       10.14%      \n",
      "    6. atque       25          0.48%       10.62%      \n",
      "    7. aut         24          0.47%       11.09%      \n",
      "    8. iam         23          0.45%       11.53%      \n",
      "    9. quae        23          0.45%       11.98%      \n",
      "   10. ad          21          0.41%       12.38%      \n",
      "   11. hic         19          0.37%       12.75%      \n",
      "   12. nec         19          0.37%       13.12%      \n",
      "   13. aeneas      19          0.37%       13.49%      \n",
      "   14. tum         18          0.35%       13.84%      \n",
      "   15. se          18          0.35%       14.19%      \n",
      "   16. te          17          0.33%       14.52%      \n",
      "   17. non         17          0.33%       14.84%      \n",
      "   18. sic         16          0.31%       15.16%      \n",
      "   19. est         15          0.29%       15.45%      \n",
      "   20. qui         14          0.27%       15.72%      \n",
      "   21. o           14          0.27%       15.99%      \n",
      "   22. nunc        14          0.27%       16.26%      \n",
      "   23. ab          13          0.25%       16.51%      \n",
      "   24. si          13          0.25%       16.76%      \n",
      "   25. haec        13          0.25%       17.02%      \n"
     ]
    }
   ],
   "source": [
    "running = 0\n",
    "\n",
    "print('Top 25 words in Virgil 1:\\n')\n",
    "print(\"{number:>5}  {word:<12}{count:<12}{percent:<12}{running:<12}\". \\\n",
    "        format(number=\"\", word=\"TOKEN\", count=\"COUNT\", percent=\"TOKEN %\", running = \"RUNNING %\"))\n",
    "for i, pair in enumerate(word_count.most_common(25)):\n",
    "    running += pair[1]\n",
    "    print(\"{number:>5}. {word:<12}{count:<12}{percent:<12}{running:<12}\". \\\n",
    "        format(number=i+1, word=pair[0], count=pair[1], \\\n",
    "        percent=str(round(pair[1] / len(tokens)*100, 2))+\"%\", running = str(round(running / len(tokens)*100, 2))+\"%\"))"
   ]
  },
  {
   "cell_type": "markdown",
   "metadata": {},
   "source": [
    "### KWIC"
   ]
  },
  {
   "cell_type": "code",
   "execution_count": 42,
   "metadata": {},
   "outputs": [],
   "source": [
    "from nltk import Text"
   ]
  },
  {
   "cell_type": "code",
   "execution_count": 43,
   "metadata": {},
   "outputs": [
    {
     "name": "stdout",
     "output_type": "stream",
     "text": [
      "Displaying 19 of 19 matches:\n",
      "non alligat ancora morsu huc septem aeneas collectis nauibus omni ex numero su\n",
      "ere parant flammis et frangere saxo aeneas scopulum interea conscendit et omne\n",
      "iam exaudire uocatos praecipue pius aeneas nunc acris oronti nunc amyci casum \n",
      "mperiis et fulmine terres quid meus aeneas in te committere tantum quid troes \n",
      "animum mentem -que benignam at pius aeneas per noctem plurima uoluens ut primu\n",
      "cis tempestas adpulit oris sum pius aeneas raptos qui ex hoste penates classe \n",
      "spectat desuper arces miratur molem aeneas magalia quondam miratur portas stre\n",
      "fortunati quorum iam moenia surgunt aeneas ait et fastigia suspicit urbis infe\n",
      "es oblata timorem leniit hic primum aeneas sperare salutem ausus et adflictis \n",
      "ustis aut sorte trahebat cum subito aeneas concursu accedere magno anthea serg\n",
      "emores fandi atque nefandi rex erat aeneas nobis quo iustior alter nec pietate\n",
      "x ipse noto compulsus eodem adforet aeneas equidem per litora certos dimittam \n",
      "i dictis et fortis achates et pater aeneas iamdudum erumpere nubem ardebant pr\n",
      " in aethera purgat apertum restitit aeneas clara -que in luce refulsit os umer\n",
      "t coram quem quaeritis adsum troius aeneas libycis ereptus ab undis o sola inf\n",
      "s immanibus applicat oris tune ille aeneas quem dardanio anchisae alma uenus p\n",
      "cta uiros antiqua ab origine gentis aeneas neque enim patrius consistere mente\n",
      " supplex tua numina posco frater ut aeneas pelago tuus omnia circum litora iac\n",
      "ponda mediam -que locauit iam pater aeneas et iam troiana iuuentus conueniunt \n"
     ]
    }
   ],
   "source": [
    "virgil_Text = Text(tokens)\n",
    "virgil_Text.concordance('Aeneas')"
   ]
  },
  {
   "cell_type": "markdown",
   "metadata": {},
   "source": [
    "### Dispersion Plot"
   ]
  },
  {
   "cell_type": "code",
   "execution_count": 44,
   "metadata": {},
   "outputs": [],
   "source": [
    "%matplotlib inline  \n",
    "import matplotlib.pyplot as plt"
   ]
  },
  {
   "cell_type": "code",
   "execution_count": 45,
   "metadata": {},
   "outputs": [
    {
     "data": {
      "text/plain": [
       "<Text: arma uirum -que cano troiae qui primus ab...>"
      ]
     },
     "execution_count": 45,
     "metadata": {},
     "output_type": "execute_result"
    }
   ],
   "source": [
    "virgil_Text"
   ]
  },
  {
   "cell_type": "code",
   "execution_count": 46,
   "metadata": {},
   "outputs": [
    {
     "data": {
      "image/png": "[encoded data removed]",
      "text/plain": [
       "<Figure size 1440x360 with 1 Axes>"
      ]
     },
     "metadata": {
      "needs_background": "light"
     },
     "output_type": "display_data"
    }
   ],
   "source": [
    "plt.figure(figsize=(20, 5))\n",
    "virgil_Text.dispersion_plot(['aeneas', 'uenus', 'dido'])"
   ]
  },
  {
   "cell_type": "markdown",
   "metadata": {},
   "source": [
    "### Graphed Frequency Distribution"
   ]
  },
  {
   "cell_type": "code",
   "execution_count": 47,
   "metadata": {},
   "outputs": [
    {
     "data": {
      "image/png": "[encoded data removed]",
      "text/plain": [
       "<Figure size 1440x720 with 1 Axes>"
      ]
     },
     "metadata": {
      "needs_background": "light"
     },
     "output_type": "display_data"
    }
   ],
   "source": [
    "from nltk.probability import FreqDist\n",
    "\n",
    "fdist = FreqDist(virgil_Text)\n",
    "\n",
    "plt.figure(figsize=(20, 10))\n",
    "fdist.plot(50, cumulative=True)"
   ]
  },
  {
   "cell_type": "markdown",
   "metadata": {},
   "source": [
    "## Working with other CLTK Languages"
   ]
  },
  {
   "cell_type": "markdown",
   "metadata": {},
   "source": [
    "### Working with Ancient Greek in CLTK"
   ]
  },
  {
   "cell_type": "code",
   "execution_count": 48,
   "metadata": {},
   "outputs": [],
   "source": [
    "import re\n",
    "import requests\n",
    "\n",
    "response = requests.get('https://raw.githubusercontent.com/tesserae/tesserae/master/texts/grc/homer.iliad/homer.iliad.part.1.tess')\n",
    "iliad = response.text"
   ]
  },
  {
   "cell_type": "code",
   "execution_count": 49,
   "metadata": {},
   "outputs": [
    {
     "name": "stdout",
     "output_type": "stream",
     "text": [
      "<hom. il. 1.1>\tμῆνιν ἄειδε θεὰ Πηληϊάδεω ̓Αχιλῆος\n",
      "<hom. il. 1.2>\tοὐλομένην, ἣ μυρί' ̓Αχα\n"
     ]
    }
   ],
   "source": [
    "print(iliad[:100])"
   ]
  },
  {
   "cell_type": "code",
   "execution_count": 50,
   "metadata": {},
   "outputs": [
    {
     "name": "stdout",
     "output_type": "stream",
     "text": [
      "μῆνιν ἄειδε θεὰ Πηληϊάδεω ̓Αχιλῆος\n",
      "οὐλομένην, ἣ μυρί' ̓Αχαιοῖς ἄλγε' ἔθηκε,\n",
      "πολλὰς\n"
     ]
    }
   ],
   "source": [
    "iliad = re.sub(r'<.+?>\\t', '', iliad)\n",
    "print(iliad[:100])"
   ]
  },
  {
   "cell_type": "code",
   "execution_count": 51,
   "metadata": {},
   "outputs": [],
   "source": [
    "import unicodedata\n",
    "\n",
    "iliad = unicodedata.normalize('NFC', iliad)"
   ]
  },
  {
   "cell_type": "code",
   "execution_count": 52,
   "metadata": {},
   "outputs": [
    {
     "name": "stdout",
     "output_type": "stream",
     "text": [
      "['μῆνιν', 'ἄειδε', 'θεὰ', 'Πηληϊάδεω', '̓Αχιλῆος', 'οὐλομένην', ',', 'ἣ', 'μυρί', \"'\", '̓Αχαιοῖς', 'ἄλγε', \"'\", 'ἔθηκε', ',', 'πολλὰς', 'δ', \"'\", 'ἰφθίμους', 'ψυχὰς', '̓́Αϊδι', 'προί̈αψεν', 'ἡρώων', ',', 'αὐτοὺς', 'δὲ', 'ἑλώρια', 'τεῦχε', 'κύνεσσιν', 'οἰωνοῖσί', 'τε', 'πᾶσι', ',', 'Διὸς', 'δ', \"'\", 'ἐτελείετο', 'βουλή', ',', 'ἐξ', 'οὗ', 'δὴ', 'τὰ', 'πρῶτα', 'διαστήτην', 'ἐρίσαντε', '̓Ατρεί̈δης', 'τε', 'ἄναξ', 'ἀνδρῶν', 'καὶ', 'δῖος', '̓Αχιλλεύς', '.', 'τίς', 'τ', \"'\", 'ἄρ', 'σφωε', 'θεῶν', 'ἔριδι', 'ξυνέηκε', 'μάχεσθαι', ';', 'Λητοῦς', 'καὶ', 'Διὸς', 'υἱός', ':', 'ὃ', 'γὰρ', 'βασιλῆϊ', 'χολωθεὶς', 'νοῦσον', 'ἀνὰ', 'στρατὸν', 'ὄρσε', 'κακήν', ',', 'ὀλέκοντο', 'δὲ', 'λαοί', ',', 'οὕνεκα', 'τὸν', 'Χρύσην', 'ἠτίμασεν', 'ἀρητῆρα', '̓Ατρεί̈δης', ':', 'ὃ', 'γὰρ', 'ἦλθε', 'θοὰς', 'ἐπὶ', 'νῆας', '̓Αχαιῶν', 'λυσόμενός', 'τε', 'θύγατρα']\n"
     ]
    }
   ],
   "source": [
    "from cltk.tokenize.word import WordTokenizer\n",
    "\n",
    "word_tokenizer = WordTokenizer('greek')\n",
    "tokens = word_tokenizer.tokenize(iliad)\n",
    "print(tokens[:100])"
   ]
  },
  {
   "cell_type": "code",
   "execution_count": 53,
   "metadata": {},
   "outputs": [],
   "source": [
    "from cltk.tokenize.line import LineTokenizer\n",
    "\n",
    "line_tokenizer = LineTokenizer('greek')\n",
    "lines = line_tokenizer.tokenize(iliad)"
   ]
  },
  {
   "cell_type": "code",
   "execution_count": 54,
   "metadata": {},
   "outputs": [
    {
     "data": {
      "text/plain": [
       "[('μῆνιν', 'N-S---FA-'),\n",
       " ('ἄειδε', 'V2SPMA---'),\n",
       " ('θεὰ', 'N-S---FV-'),\n",
       " ('Πηληϊάδεω', None),\n",
       " ('̓', None),\n",
       " ('Αχιλῆος', None)]"
      ]
     },
     "execution_count": 54,
     "metadata": {},
     "output_type": "execute_result"
    }
   ],
   "source": [
    "from cltk.tag.pos import POSTag\n",
    "tagger = POSTag('greek')\n",
    "\n",
    "tagger.tag_ngram_123_backoff(lines[0])"
   ]
  },
  {
   "cell_type": "markdown",
   "metadata": {},
   "source": [
    "### Working with Akkadian in CLTK"
   ]
  },
  {
   "cell_type": "code",
   "execution_count": 55,
   "metadata": {},
   "outputs": [],
   "source": [
    "# In[1]: import os\n",
    "\n",
    "from cltk.tokenize.word import WordTokenizer\n",
    "\n",
    "word_tokenizer = WordTokenizer('akkadian')"
   ]
  },
  {
   "cell_type": "code",
   "execution_count": 56,
   "metadata": {},
   "outputs": [
    {
     "name": "stdout",
     "output_type": "stream",
     "text": [
      "[('u2-wa-a-ru', 'akkadian'),\n",
      " ('at-ta', 'akkadian'),\n",
      " ('e2-kal2-la-ka', 'akkadian'),\n",
      " ('_e2_-ka', 'sumerian'),\n",
      " ('wu-e-er', 'akkadian')]\n"
     ]
    }
   ],
   "source": [
    "line = 'u2-wa-a-ru at-ta e2-kal2-la-ka _e2_-ka wu-e-er'\n",
    "tokens = word_tokenizer.tokenize(line)\n",
    "pprint(tokens)"
   ]
  },
  {
   "cell_type": "code",
   "execution_count": 57,
   "metadata": {},
   "outputs": [
    {
     "data": {
      "text/plain": [
       "['e', 'piš', 'ta', 'šu']"
      ]
     },
     "execution_count": 57,
     "metadata": {},
     "output_type": "execute_result"
    }
   ],
   "source": [
    "from cltk.stem.akkadian.syllabifier import Syllabifier\n",
    "\n",
    "word = \"epištašu\"\n",
    "syll = Syllabifier()\n",
    "syll.syllabify(word)"
   ]
  },
  {
   "cell_type": "code",
   "execution_count": 58,
   "metadata": {},
   "outputs": [
    {
     "data": {
      "text/plain": [
       "[('ilum', {'case': 'nominative', 'number': 'singular'}),\n",
       " ('ilam', {'case': 'accusative', 'number': 'singular'}),\n",
       " ('ilim', {'case': 'genitive', 'number': 'singular'}),\n",
       " ('ilān', {'case': 'nominative', 'number': 'dual'}),\n",
       " ('ilīn', {'case': 'oblique', 'number': 'dual'}),\n",
       " ('ilū', {'case': 'nominative', 'number': 'plural'}),\n",
       " ('ilī', {'case': 'oblique', 'number': 'plural'})]"
      ]
     },
     "execution_count": 58,
     "metadata": {},
     "output_type": "execute_result"
    }
   ],
   "source": [
    "from cltk.stem.akkadian.declension import NaiveDecliner\n",
    "\n",
    "word = 'ilum'\n",
    "decliner = NaiveDecliner()\n",
    "decliner.decline_noun(word, 'm')"
   ]
  },
  {
   "cell_type": "code",
   "execution_count": null,
   "metadata": {},
   "outputs": [],
   "source": [
    "\n"
   ]
  }
 ],
 "metadata": {
  "kernelspec": {
   "display_name": "Python 3",
   "language": "python",
   "name": "python3"
  },
  "language_info": {
   "codemirror_mode": {
    "name": "ipython",
    "version": 3
   },
   "file_extension": ".py",
   "mimetype": "text/x-python",
   "name": "python",
   "nbconvert_exporter": "python",
   "pygments_lexer": "ipython3",
   "version": "3.7.2"
  }
 },
 "nbformat": 4,
 "nbformat_minor": 2
}
