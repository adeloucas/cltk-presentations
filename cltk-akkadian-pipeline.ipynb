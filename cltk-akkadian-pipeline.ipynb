{
 "cells": [
  {
   "cell_type": "markdown",
   "metadata": {},
   "source": [
    "# Building a Text Analysis Pipeline for Ancient Languages with CLTK"
   ]
  },
  {
   "cell_type": "markdown",
   "metadata": {},
   "source": [
    "This workshop will introduce the Classical Language Toolkit, an open-source Python framework dedicated to text analysis and natural language processing for historical languages. Participants will be taken through the basic stages of a text analysis pipeline, namely corpus loading, preprocessing, sentence and word tokenization, lemmatization, part-of-speech and morphological tagging, prosody identification, and more. Examples will given primarily using Akkadian texts (and English translations), though some attention will be given to other languages supported by the project, including Latin and Ancient Greek. Participants are encouraged to bring their laptops; the demonstration can be followed along with interactively in a web browser without any installation or setup."
   ]
  },
  {
   "cell_type": "markdown",
   "metadata": {},
   "source": [
    "## Setup"
   ]
  },
  {
   "cell_type": "code",
   "execution_count": 1,
   "metadata": {},
   "outputs": [],
   "source": [
    "import cltk\n",
    "import os\n",
    "\n",
    "from pprint import pprint"
   ]
  },
  {
   "cell_type": "markdown",
   "metadata": {},
   "source": [
    "## Working with CLTK Corpora"
   ]
  },
  {
   "cell_type": "markdown",
   "metadata": {},
   "source": [
    "### Installing Corpora"
   ]
  },
  {
   "cell_type": "code",
   "execution_count": 2,
   "metadata": {},
   "outputs": [],
   "source": [
    "## Set up corpora\n",
    "\n",
    "## You will need the models/datasets that the new lemmatizer uses\n",
    "## Note that this will generate an error if this and older \n",
    "## version of this corpus is already installed. If that happens,\n",
    "## backup the old version, move or delete it, and reimport the corpus.\n",
    "\n",
    "from cltk.corpus.utils.importer import CorpusImporter\n",
    "\n",
    "corpus_importer = CorpusImporter('akkadian')\n",
    "corpus_importer.list_corpora # Need a print statement here if you want output\n",
    "\n",
    "corpus_importer.import_corpus('cdli_corpus')\n",
    "\n",
    "# This corpus syncs with CDLI's github account, which is backed-up daily."
   ]
  },
  {
   "cell_type": "markdown",
   "metadata": {},
   "source": [
    "### Loading a CLTK corpus"
   ]
  },
  {
   "cell_type": "code",
   "execution_count": 3,
   "metadata": {},
   "outputs": [
    {
     "data": {
      "text/plain": [
       "True"
      ]
     },
     "execution_count": 3,
     "metadata": {},
     "output_type": "execute_result"
    }
   ],
   "source": [
    "# Check and ensure that the Cuneiform Digital Library \n",
    "# corpus is imported.\n",
    "\n",
    "parent_directory = os.path.expanduser('~')\n",
    "file = os.path.join(parent_directory, 'cltk_data', 'akkadian', \n",
    "                    'atf', 'cdli_corpus', 'cdliatf_unblocked.atf')\n",
    "os.path.isfile(file)\n",
    "\n",
    "# This didn't work for me...\n",
    "# cltk_data is in my user folder (as I think it is by default)"
   ]
  },
  {
   "cell_type": "code",
   "execution_count": 4,
   "metadata": {},
   "outputs": [],
   "source": [
    "# Load corpus\n",
    "\n",
    "from cltk.corpus.akkadian.file_importer import FileImport\n",
    "from cltk.corpus.akkadian.cdli_corpus import CDLICorpus\n",
    "\n",
    "fi = FileImport(file)\n",
    "cc = CDLICorpus()\n",
    "\n",
    "fi.read_file()\n",
    "cc.parse_file(fi.file_lines)\n",
    "\n",
    "# May need to explain what each of these does, esp. since there is no output from the cell"
   ]
  },
  {
   "cell_type": "markdown",
   "metadata": {},
   "source": [
    "## Corpus Data"
   ]
  },
  {
   "cell_type": "code",
   "execution_count": 5,
   "metadata": {},
   "outputs": [
    {
     "name": "stdout",
     "output_type": "stream",
     "text": [
      "Pnum: P223455\n",
      "Edition: TIM 09, 072\n",
      "Metadata: False\n",
      "Transliteration: True\n",
      "Normalization: True\n",
      "Translation: True\n",
      "\n",
      "Pnum: P251913\n",
      "Edition: CUSAS 32, 068\n",
      "Metadata: False\n",
      "Transliteration: True\n",
      "Normalization: True\n",
      "Translation: True\n",
      "\n",
      "Pnum: P252006\n",
      "Edition: CUSAS 10, 11\n",
      "Metadata: False\n",
      "Transliteration: True\n",
      "Normalization: True\n",
      "Translation: True\n",
      "\n",
      "Pnum: P254202\n",
      "Edition: ARM 01, 001\n",
      "Metadata: False\n",
      "Transliteration: True\n",
      "Normalization: True\n",
      "Translation: True\n",
      "\n",
      "Pnum: P254219\n",
      "Edition: ARM 01, 018\n",
      "Metadata: False\n",
      "Transliteration: True\n",
      "Normalization: True\n",
      "Translation: True\n",
      "\n",
      "Pnum: P254251\n",
      "Edition: ARM 01, 050\n",
      "Metadata: False\n",
      "Transliteration: True\n",
      "Normalization: True\n",
      "Translation: True\n",
      "\n",
      "Pnum: P254270\n",
      "Edition: ARM 01, 069\n",
      "Metadata: False\n",
      "Transliteration: True\n",
      "Normalization: True\n",
      "Translation: True\n",
      "\n",
      "Pnum: P254294\n",
      "Edition: ARM 01, 093\n",
      "Metadata: False\n",
      "Transliteration: True\n",
      "Normalization: True\n",
      "Translation: True\n",
      "\n",
      "Pnum: P254316\n",
      "Edition: ARM 01, 115\n",
      "Metadata: False\n",
      "Transliteration: True\n",
      "Normalization: True\n",
      "Translation: True\n",
      "\n",
      "Pnum: P258625\n",
      "Edition: BE 06/1, 085\n",
      "Metadata: False\n",
      "Transliteration: True\n",
      "Normalization: True\n",
      "Translation: False\n",
      "\n",
      "Pnum: P258738\n",
      "Edition: BE 06/1, 096\n",
      "Metadata: False\n",
      "Transliteration: True\n",
      "Normalization: True\n",
      "Translation: False\n",
      "\n",
      "Pnum: P272934\n",
      "Edition: ARM 02, 022\n",
      "Metadata: False\n",
      "Transliteration: True\n",
      "Normalization: True\n",
      "Translation: True\n",
      "\n",
      "Pnum: P272945\n",
      "Edition: ARM 02, 033\n",
      "Metadata: False\n",
      "Transliteration: True\n",
      "Normalization: True\n",
      "Translation: True\n",
      "\n",
      "Pnum: P272949\n",
      "Edition: ARM 02, 037\n",
      "Metadata: False\n",
      "Transliteration: True\n",
      "Normalization: True\n",
      "Translation: True\n",
      "\n",
      "Pnum: P272968\n",
      "Edition: ARM 02, 057\n",
      "Metadata: False\n",
      "Transliteration: True\n",
      "Normalization: True\n",
      "Translation: True\n",
      "\n",
      "Pnum: P272982\n",
      "Edition: ARM 02, 071\n",
      "Metadata: False\n",
      "Transliteration: True\n",
      "Normalization: True\n",
      "Translation: True\n",
      "\n",
      "Pnum: P273008\n",
      "Edition: ARM 02, 097\n",
      "Metadata: False\n",
      "Transliteration: True\n",
      "Normalization: True\n",
      "Translation: True\n",
      "\n",
      "Pnum: P273010\n",
      "Edition: ARM 02, 099\n",
      "Metadata: False\n",
      "Transliteration: True\n",
      "Normalization: True\n",
      "Translation: True\n",
      "\n",
      "Pnum: P273025\n",
      "Edition: ARM 02, 118\n",
      "Metadata: False\n",
      "Transliteration: True\n",
      "Normalization: True\n",
      "Translation: True\n",
      "\n",
      "Pnum: P273028\n",
      "Edition: ARM 02, 121\n",
      "Metadata: False\n",
      "Transliteration: True\n",
      "Normalization: True\n",
      "Translation: True\n",
      "\n",
      "Pnum: P273029\n",
      "Edition: ARM 02, 122\n",
      "Metadata: False\n",
      "Transliteration: True\n",
      "Normalization: True\n",
      "Translation: True\n",
      "\n",
      "Pnum: P273033\n",
      "Edition: ARM 02, 126\n",
      "Metadata: False\n",
      "Transliteration: True\n",
      "Normalization: True\n",
      "Translation: True\n",
      "\n",
      "Pnum: P273040\n",
      "Edition: ARM 02, 133\n",
      "Metadata: False\n",
      "Transliteration: True\n",
      "Normalization: True\n",
      "Translation: True\n",
      "\n",
      "Pnum: P273046\n",
      "Edition: ARM 02, 139\n",
      "Metadata: False\n",
      "Transliteration: True\n",
      "Normalization: True\n",
      "Translation: True\n",
      "\n",
      "Pnum: P273087\n",
      "Edition: ARM 03, 040\n",
      "Metadata: False\n",
      "Transliteration: True\n",
      "Normalization: True\n",
      "Translation: True\n",
      "\n",
      "Pnum: P273122\n",
      "Edition: ARM 03, 078\n",
      "Metadata: False\n",
      "Transliteration: True\n",
      "Normalization: True\n",
      "Translation: True\n",
      "\n",
      "Pnum: P274660\n",
      "Edition: UET 6, 0399\n",
      "Metadata: False\n",
      "Transliteration: True\n",
      "Normalization: True\n",
      "Translation: True\n",
      "\n",
      "Pnum: P274661\n",
      "Edition: JCS 09, 009\n",
      "Metadata: False\n",
      "Transliteration: True\n",
      "Normalization: True\n",
      "Translation: True\n",
      "\n",
      "Pnum: P274662\n",
      "Edition: BIN 02, 072\n",
      "Metadata: False\n",
      "Transliteration: True\n",
      "Normalization: True\n",
      "Translation: True\n",
      "\n",
      "Pnum: P274689\n",
      "Edition: PRAK C 001\n",
      "Metadata: False\n",
      "Transliteration: True\n",
      "Normalization: True\n",
      "Translation: True\n",
      "\n",
      "Pnum: P274690\n",
      "Edition: VS 17, 08\n",
      "Metadata: False\n",
      "Transliteration: True\n",
      "Normalization: True\n",
      "Translation: True\n",
      "\n",
      "Pnum: P274691\n",
      "Edition: VS 17, 23\n",
      "Metadata: False\n",
      "Transliteration: True\n",
      "Normalization: True\n",
      "Translation: True\n",
      "\n",
      "Pnum: P283754\n",
      "Edition: CT 42, 32 BM 017305\n",
      "Metadata: False\n",
      "Transliteration: True\n",
      "Normalization: True\n",
      "Translation: True\n",
      "\n",
      "Pnum: P283937\n",
      "Edition: Subartu 14, 01\n",
      "Metadata: False\n",
      "Transliteration: True\n",
      "Normalization: True\n",
      "Translation: True\n",
      "\n",
      "Pnum: P338355\n",
      "Edition: CDLI Literary 002727, ex. 001\n",
      "Metadata: False\n",
      "Transliteration: True\n",
      "Normalization: True\n",
      "Translation: True\n",
      "\n",
      "Pnum: P338787\n",
      "Edition: ARM 04, 025\n",
      "Metadata: False\n",
      "Transliteration: True\n",
      "Normalization: True\n",
      "Translation: True\n",
      "\n",
      "Pnum: P338788\n",
      "Edition: ARM 04, 026\n",
      "Metadata: False\n",
      "Transliteration: True\n",
      "Normalization: True\n",
      "Translation: True\n",
      "\n",
      "Pnum: P338813\n",
      "Edition: ARM 04, 051\n",
      "Metadata: False\n",
      "Transliteration: True\n",
      "Normalization: True\n",
      "Translation: True\n",
      "\n",
      "Pnum: P338816\n",
      "Edition: ARM 04, 054\n",
      "Metadata: False\n",
      "Transliteration: True\n",
      "Normalization: True\n",
      "Translation: True\n",
      "\n",
      "Pnum: P338855\n",
      "Edition: ARM 05, 005\n",
      "Metadata: False\n",
      "Transliteration: True\n",
      "Normalization: True\n",
      "Translation: True\n",
      "\n",
      "Pnum: P338870\n",
      "Edition: ARM 05, 020\n",
      "Metadata: False\n",
      "Transliteration: True\n",
      "Normalization: True\n",
      "Translation: True\n",
      "\n",
      "Pnum: P338915\n",
      "Edition: ARM 05, 065\n",
      "Metadata: False\n",
      "Transliteration: True\n",
      "Normalization: True\n",
      "Translation: True\n",
      "\n",
      "Pnum: P338933\n",
      "Edition: ARM 05, 083\n",
      "Metadata: False\n",
      "Transliteration: True\n",
      "Normalization: True\n",
      "Translation: True\n",
      "\n",
      "Pnum: P346443\n",
      "Edition: UET 6, 0402\n",
      "Metadata: False\n",
      "Transliteration: True\n",
      "Normalization: True\n",
      "Translation: True\n",
      "\n",
      "Pnum: P349970\n",
      "Edition: ARM 10, 006\n",
      "Metadata: False\n",
      "Transliteration: True\n",
      "Normalization: True\n",
      "Translation: True\n",
      "\n",
      "Pnum: P349971\n",
      "Edition: ARM 10, 007\n",
      "Metadata: False\n",
      "Transliteration: True\n",
      "Normalization: True\n",
      "Translation: True\n",
      "\n",
      "Pnum: P349972\n",
      "Edition: ARM 10, 008\n",
      "Metadata: False\n",
      "Transliteration: True\n",
      "Normalization: True\n",
      "Translation: True\n",
      "\n",
      "Pnum: P349974\n",
      "Edition: ARM 10, 010\n",
      "Metadata: False\n",
      "Transliteration: True\n",
      "Normalization: True\n",
      "Translation: True\n",
      "\n",
      "Pnum: P349975\n",
      "Edition: ARM 10, 011\n",
      "Metadata: False\n",
      "Transliteration: True\n",
      "Normalization: True\n",
      "Translation: True\n",
      "\n",
      "Pnum: P349976\n",
      "Edition: ARM 10, 012\n",
      "Metadata: False\n",
      "Transliteration: True\n",
      "Normalization: True\n",
      "Translation: True\n",
      "\n",
      "Pnum: P349983\n",
      "Edition: ARM 10, 019\n",
      "Metadata: False\n",
      "Transliteration: True\n",
      "Normalization: True\n",
      "Translation: True\n",
      "\n",
      "Pnum: P349992\n",
      "Edition: ARM 10, 028\n",
      "Metadata: False\n",
      "Transliteration: True\n",
      "Normalization: True\n",
      "Translation: True\n",
      "\n",
      "Pnum: P350016\n",
      "Edition: ARM 10, 052\n",
      "Metadata: False\n",
      "Transliteration: True\n",
      "Normalization: True\n",
      "Translation: True\n",
      "\n",
      "Pnum: P350084\n",
      "Edition: ARM 10, 120\n",
      "Metadata: False\n",
      "Transliteration: True\n",
      "Normalization: True\n",
      "Translation: True\n",
      "\n",
      "Pnum: P354561\n",
      "Edition: ARM 26, 004\n",
      "Metadata: False\n",
      "Transliteration: True\n",
      "Normalization: True\n",
      "Translation: True\n",
      "\n",
      "Pnum: P354564\n",
      "Edition: ARM 26, 007\n",
      "Metadata: False\n",
      "Transliteration: True\n",
      "Normalization: True\n",
      "Translation: True\n",
      "\n",
      "Pnum: P354670\n",
      "Edition: ARM 26, 113\n",
      "Metadata: False\n",
      "Transliteration: True\n",
      "Normalization: True\n",
      "Translation: True\n",
      "\n",
      "Pnum: P355886\n",
      "Edition: JNES 14, 015\n",
      "Metadata: False\n",
      "Transliteration: True\n",
      "Normalization: True\n",
      "Translation: True\n",
      "\n",
      "Pnum: P355896\n",
      "Edition: RA 036, 12\n",
      "Metadata: False\n",
      "Transliteration: True\n",
      "Normalization: True\n",
      "Translation: True\n",
      "\n",
      "Pnum: P355902\n",
      "Edition: UET 5, 0085\n",
      "Metadata: False\n",
      "Transliteration: True\n",
      "Normalization: True\n",
      "Translation: True\n",
      "\n",
      "Pnum: P360821\n",
      "Edition: Fs Hirsch 425-430\n",
      "Metadata: False\n",
      "Transliteration: True\n",
      "Normalization: True\n",
      "Translation: True\n",
      "\n",
      "Pnum: P363615\n",
      "Edition: CDLI Literary 002701.01, ex. 002\n",
      "Metadata: False\n",
      "Transliteration: True\n",
      "Normalization: True\n",
      "Translation: True\n",
      "\n",
      "Pnum: P365088\n",
      "Edition: CT 02, pl. 07, Bu 1888-05-12, 175\n",
      "Metadata: False\n",
      "Transliteration: True\n",
      "Normalization: True\n",
      "Translation: False\n",
      "\n",
      "Pnum: P372273\n",
      "Edition: VS 07, 050\n",
      "Metadata: False\n",
      "Transliteration: True\n",
      "Normalization: True\n",
      "Translation: False\n",
      "\n",
      "Pnum: P372428\n",
      "Edition: VS 08, 004 & 005\n",
      "Metadata: False\n",
      "Transliteration: True\n",
      "Normalization: True\n",
      "Translation: False\n",
      "\n",
      "Pnum: P393923\n",
      "Edition: RIMA 2.0.087.001, ex. 03\n",
      "Metadata: False\n",
      "Transliteration: True\n",
      "Normalization: True\n",
      "Translation: True\n",
      "\n",
      "Pnum: P430007\n",
      "Edition: CDLI Seals S001505 (physical)\n",
      "Metadata: False\n",
      "Transliteration: True\n",
      "Normalization: True\n",
      "Translation: True\n",
      "\n",
      "Pnum: P464358\n",
      "Edition: RIME 4.03.06.add21 (Codex Hammurapi) composite\n",
      "Metadata: False\n",
      "Transliteration: True\n",
      "Normalization: True\n",
      "Translation: True\n",
      "\n",
      "Pnum: P480696\n",
      "Edition: RIME 4.05.19.add03 (Laws of Eshnunna) composite\n",
      "Metadata: False\n",
      "Transliteration: True\n",
      "Normalization: True\n",
      "Translation: True\n",
      "\n",
      "Pnum: P491222\n",
      "Edition: CDLI Literary 002701 (ludlul bēl nēmeqi) composite\n",
      "Metadata: False\n",
      "Transliteration: True\n",
      "Normalization: True\n",
      "Translation: True\n",
      "\n",
      "Pnum: P497322\n",
      "Edition: CDLI Literary Descent of Ishtar (composite)\n",
      "Metadata: False\n",
      "Transliteration: True\n",
      "Normalization: True\n",
      "Translation: True\n",
      "\n",
      "Pnum: P497998\n",
      "Edition: RIMA 2.0.087.add031 (MA Laws) composite\n",
      "Metadata: False\n",
      "Transliteration: True\n",
      "Normalization: True\n",
      "Translation: True\n",
      "\n",
      "Pnum: P498314\n",
      "Edition: MDP 02, 086-092, pl.16-19\n",
      "Metadata: False\n",
      "Transliteration: True\n",
      "Normalization: True\n",
      "Translation: True\n",
      "\n",
      "Pnum: P498859\n",
      "Edition: MDP 02, 099\n",
      "Metadata: False\n",
      "Transliteration: True\n",
      "Normalization: True\n",
      "Translation: True\n",
      "\n",
      "Pnum: P499058\n",
      "Edition: CDLI Literary curse, ex. 001\n",
      "Metadata: False\n",
      "Transliteration: True\n",
      "Normalization: True\n",
      "Translation: True\n",
      "\n",
      "Pnum: P499186\n",
      "Edition: CDLI Literary 002727 (Poor Man of Nippur) composite\n",
      "Metadata: False\n",
      "Transliteration: True\n",
      "Normalization: True\n",
      "Translation: True\n",
      "\n",
      "Pnum: P499718\n",
      "Edition: CDLI Literary curse (Why do you curse me?) composite\n",
      "Metadata: False\n",
      "Transliteration: True\n",
      "Normalization: True\n",
      "Translation: True\n",
      "\n",
      "Pnum: P500173\n",
      "Edition: KTU 5.06\n",
      "Metadata: False\n",
      "Transliteration: True\n",
      "Normalization: True\n",
      "Translation: False\n",
      "\n",
      "Pnum: P500444\n",
      "Edition: NABU 2017/015\n",
      "Metadata: False\n",
      "Transliteration: True\n",
      "Normalization: True\n",
      "Translation: True\n",
      "\n",
      "Pnum: P512361\n",
      "Edition: BAP 089\n",
      "Metadata: False\n",
      "Transliteration: True\n",
      "Normalization: True\n",
      "Translation: False\n",
      "\n"
     ]
    }
   ],
   "source": [
    "## Examining available Metadata (unique to Akkadian).\n",
    "#\n",
    "# Depending on the information available from CDLI, you can\n",
    "# generate the availability of their data. This example \n",
    "# shows that you can filter through texts that have available\n",
    "# metadata, transliterations, normalizations and translation. \n",
    "# They're identified by their unique CDLI number (Pnum), \n",
    "# and edition (publication).\n",
    "#\n",
    "# Other filters include pnum, edition, metadata, transliteration, \n",
    "# normalization, and translation.\n",
    "#\n",
    "# Note, I'm utilizing 'normalization' because it\n",
    "# pulls the least amount of data at once.\n",
    "\n",
    "cc.print_catalog(catalog_filter=['normalization']) # Way to limit output to sample? See next cell.\n",
    "\n",
    "# I like the \"unique\" disclaimer—perhaps a word of why other corpora would benefit from similar treatment.\n",
    "# Also, maybe a small nod to the new CLTK Tesserae Greek & Latin corpora (e.g. https://github.com/cltk/greek_text_tesserae) which have proper citation.bib, license.md, etc. files; maybe explain here the difference between hosted and remote corpora"
   ]
  },
  {
   "cell_type": "markdown",
   "metadata": {},
   "source": [
    "### Additional tools"
   ]
  },
  {
   "cell_type": "code",
   "execution_count": 6,
   "metadata": {},
   "outputs": [
    {
     "name": "stdout",
     "output_type": "stream",
     "text": [
      "['P000001', 'P000002', 'P000003', 'P000004', 'P000005']\n",
      "['Pnum: P000001, Edition: CDLI Lexical 000002, ex. 065, length: 10 line(s)',\n",
      " 'Pnum: P000002, Edition: CDLI Lexical 000002, ex. 066, length: 8 line(s)',\n",
      " 'Pnum: P000003, Edition: ATU 3, pl. 081, W 9123,d, length: 26 line(s)',\n",
      " 'Pnum: P000004, Edition: CDLI Lexical 000002, ex. 051, length: 4 line(s)',\n",
      " 'Pnum: P000005, Edition: CDLI Lexical 000002, ex. 172, length: 11 line(s)']\n",
      "['(N)TSS 065 + 159 + 178 + 974',\n",
      " '01.IS.38',\n",
      " '01.IS.62',\n",
      " '01.IS.71',\n",
      " '1880-07-19, 0281']\n",
      "['P000001', 'P000002', 'P000003', 'P000004', 'P000005']\n"
     ]
    }
   ],
   "source": [
    "## For pulling all sorts of information via 'catalog'\n",
    "#\n",
    "## Print Catalog\n",
    "# This is the most memory intensive, as it grabs all \n",
    "# known information from every text: metadata, pnum,\n",
    "# edition, text, transliteration, normalization, and\n",
    "# translation.\n",
    "\n",
    "pprint(list(cc.catalog)[:5])\n",
    "\n",
    "## Table of Contents\n",
    "# Shortened form of catalog: pnum, edition, and \n",
    "# line length of text.\n",
    "\n",
    "pprint(list(cc.toc())[:5])\n",
    "\n",
    "## List CDLI number / Edition\n",
    "# Shortest formation of this! Only pnums or editions.\n",
    "\n",
    "pprint(list(cc.list_editions())[:5]) ; pprint(list(cc.list_pnums())[:5])\n",
    "\n",
    "# Try to show short slices of long lists (usually first 5, 10, 25, etc.) to make the point but not take up\n",
    "# too much space in the browser"
   ]
  },
  {
   "cell_type": "markdown",
   "metadata": {},
   "source": [
    "## Tokenization"
   ]
  },
  {
   "cell_type": "markdown",
   "metadata": {},
   "source": [
    "### Line, String Tokenizers"
   ]
  },
  {
   "cell_type": "code",
   "execution_count": 7,
   "metadata": {},
   "outputs": [],
   "source": [
    "## Set up CLTK Latin word tokenizer\n",
    "#\n",
    "# The Akkadian tokenizer reads ATF material and converts \n",
    "# data into readable, mutable tokens. There is an option\n",
    "# whether or not to preserve damage in the text.\n",
    "\n",
    "from cltk.corpus.akkadian.tokenizer import Tokenizer\n",
    "line_tokenizer = Tokenizer(preserve_damage=False)\n",
    "\n",
    "# preserve_damage is pretty cool; the kind of feature that you won't find using NLTK tools (designed for English) on an Akkadian text; can you show an example of it being used with True"
   ]
  },
  {
   "cell_type": "code",
   "execution_count": 8,
   "metadata": {},
   "outputs": [
    {
     "name": "stdout",
     "output_type": "stream",
     "text": [
      "['t,up-pi2 ta-am-gu-ur-ti',\n",
      " 'sza {munus}a-wi-isz-na-a-a _dam_{at} {disz}ar#-zi-iz-za',\n",
      " 'u3 sza {disz}sze-esz-wa-a-a _dumu_ ar-zi-iz-za',\n",
      " 'it-ti {disz}a-ri-pe3-en-ni _ARAD2_ sza {munus#}tul2-pu-na-a-a',\n",
      " 'i-na bi4-ri-szu-nu it-ta-am-ga5-ru#',\n",
      " '7(disz) _udu-hi-a-mesz_ 1(disz) _ansze-munus_ it-ti mu-ri#-szu-ma _munus_',\n",
      " '4(u) _ma-na urudu-mesz_ an-nu-tum {disz}ar-zi#-iz-za',\n",
      " 'i-na _e2_ {munus}tul2-pu-na-a-a usz-te-s,i']\n",
      "\n",
      "['{disz}{d}en-zu-szesz-mesz-eri-ba _lugal gal_-u2',\n",
      " '_lugal_ dan-nu _lugal_ kisz-sza2-ti _lugal kur_ asz-szur{ki}',\n",
      " '_lugal_ kib-rat _limmu2_-tim _re-e2-um_ it-pe-szu',\n",
      " 'mi-gir _dingir-mesz gal-mesz_ na-s,ir kit-ti',\n",
      " \"ra-'i-im mi-sza2-ri e-pisz u2-sa-a-ti\",\n",
      " 'a-lik tap-pu-ut a-ki-i sa-hi-ru dam-qa-a-ti',\n",
      " 'et,-lum git2-ma-lum zi-ka-ru qar-du',\n",
      " \"a-sza2-red kal mal-ki rap-pu la-'i-it,\"]\n",
      "\n",
      "There are 66 lines in Nuzi.\n",
      "There are 500 lines in Sennacherib.\n"
     ]
    }
   ],
   "source": [
    "## Select your text, we'll be choosing two:\n",
    "#\n",
    "# 1) Tuppi Tamgurti (Agreement text) from Nuzi\n",
    "# 2) Taylor's Prism (Royal Inscription of Sennacherib)\n",
    "\n",
    "nuzi = cc.catalog['P388524']['transliteration']\n",
    "sennacherib = cc.catalog['P462830']['transliteration']\n",
    "\n",
    "# Based on how CDLI structures its documents, we don't\n",
    "# need line tokenizers all the time; however, the option is \n",
    "# there in case you're working with other documentation.\n",
    "\n",
    "pprint(nuzi[0:8])\n",
    "print()\n",
    "pprint(sennacherib[0:8])\n",
    "print()\n",
    "print(f'There are {len(nuzi)} lines in Nuzi.')\n",
    "print(f'There are {len(sennacherib)} lines in Sennacherib.')\n",
    "\n",
    "# Not necessary everywhere—but probably a good idea to provide some translations; e.g for the first set of lines, key words, etc. Most in the audience will not have Akkadian (and also the audience will likely include going forward people not even at the workshop who find the repo, notebook, etc.)"
   ]
  },
  {
   "cell_type": "code",
   "execution_count": 9,
   "metadata": {},
   "outputs": [
    {
     "name": "stdout",
     "output_type": "stream",
     "text": [
      "['[szum]-ma {munus}a-wi-isz-na-a-a [...] [{disz}]sze#-esz-wa-a-a',\n",
      " '[i]-na# _egir#_ {disz}a-ri-pe3-ni [...] [{munus}]szi#-da2#-an-ka4']\n",
      "\n",
      "['szum-ma {munus}a-wi-isz-na-a-a ... {disz}sze-esz-wa-a-a',\n",
      " 'i-na _egir_ {disz}a-ri-pe3-ni ... {munus}szi-da2-an-ka4']\n"
     ]
    }
   ],
   "source": [
    "# Here's an example of damage erasure lines 19, 20 of our Nuzi document:\n",
    "\n",
    "pprint(nuzi[18:20])\n",
    "print()\n",
    "\n",
    "# Putting it through our line tokenizer.\n",
    "\n",
    "nuzi_sample = line_tokenizer.string_tokenizer('\\n'.join(nuzi[18:20]))\n",
    "pprint(nuzi_sample)\n",
    "\n",
    "# Perfect spot for a translation"
   ]
  },
  {
   "cell_type": "markdown",
   "metadata": {},
   "source": [
    "### Word, Sign Tokenizers"
   ]
  },
  {
   "cell_type": "code",
   "execution_count": 10,
   "metadata": {},
   "outputs": [
    {
     "name": "stdout",
     "output_type": "stream",
     "text": [
      "[('[szum]-ma', 'akkadian'),\n",
      " ('{munus}a-wi-isz-na-a-a', 'akkadian'),\n",
      " ('[...]', 'akkadian'),\n",
      " ('[{disz}]sze#-esz-wa-a-a', 'akkadian'),\n",
      " ('[i]-na#', 'akkadian'),\n",
      " ('_egir#_', 'sumerian'),\n",
      " ('{disz}a-ri-pe3-ni', 'akkadian'),\n",
      " ('[...]', 'akkadian'),\n",
      " ('[{munus}]szi#-da2#-an-ka4', 'akkadian')]\n",
      "\n",
      "[('{disz}{d}en-zu-szesz-mesz-eri-ba', 'akkadian'),\n",
      " ('_lugal', 'sumerian'),\n",
      " ('gal_-u2', 'sumerian')]\n"
     ]
    }
   ],
   "source": [
    "# Unique to cuneiform languages, CLTK can additionally\n",
    "# tokenize texts by their word count and, further,\n",
    "# the cuneiform signs of which the words are composed.\n",
    "\n",
    "from cltk.tokenize.word import WordTokenizer\n",
    "word_tokenizer = WordTokenizer('akkadian')\n",
    "\n",
    "# Word Tokenizers take strings, not lists.\n",
    "\n",
    "nuzi_words = word_tokenizer.tokenize('\\n'.join(nuzi[18:20]))\n",
    "sennacherib_words = word_tokenizer.tokenize('\\n'.join(sennacherib[0:1]))\n",
    "\n",
    "pprint(nuzi_words)\n",
    "print()\n",
    "pprint(sennacherib_words)"
   ]
  },
  {
   "cell_type": "code",
   "execution_count": 11,
   "metadata": {},
   "outputs": [
    {
     "name": "stdout",
     "output_type": "stream",
     "text": [
      "[[('[szum]', 'akkadian'), ('ma', 'akkadian')],\n",
      " [('munus', 'determinative'),\n",
      "  ('a', 'akkadian'),\n",
      "  ('wi', 'akkadian'),\n",
      "  ('isz', 'akkadian'),\n",
      "  ('na', 'akkadian'),\n",
      "  ('a', 'akkadian'),\n",
      "  ('a', 'akkadian')],\n",
      " [('[...]', 'akkadian')],\n",
      " [('[', 'akkadian'),\n",
      "  ('disz', 'determinative'),\n",
      "  (']sze#', 'akkadian'),\n",
      "  ('esz', 'akkadian'),\n",
      "  ('wa', 'akkadian'),\n",
      "  ('a', 'akkadian'),\n",
      "  ('a', 'akkadian')],\n",
      " [('[i]', 'akkadian'), ('na#', 'akkadian')]]\n",
      "\n"
     ]
    }
   ],
   "source": [
    "# Note that the tokenizers can differentiate between\n",
    "# phonetic Akkadian and logographic Sumerian writing\n",
    "# and we can confirm this with the sign tokenizer.\n",
    "\n",
    "nuzi_sign = [word_tokenizer.tokenize_sign(x) \n",
    "             for x in nuzi_words]\n",
    "sennacherib_sign = [word_tokenizer.tokenize_sign(x) \n",
    "                    for x in sennacherib_words]  \n",
    "  \n",
    "pprint(nuzi_sign[:5])\n",
    "print()\n",
    "\n",
    "# because the textual damage messes with our sign \n",
    "# readings, we'll have to turn it off."
   ]
  },
  {
   "cell_type": "code",
   "execution_count": 12,
   "metadata": {},
   "outputs": [
    {
     "name": "stdout",
     "output_type": "stream",
     "text": [
      "[[('disz', 'determinative'), ('d', 'determinative'), ('en', 'akkadian'), ('zu', 'akkadian'), ('szesz', 'akkadian'), ('mesz', 'akkadian'), ('eri', 'akkadian'), ('ba', 'akkadian')], [('lugal', 'sumerian')], [('gal', 'sumerian'), ('u2', 'sumerian')]]\n"
     ]
    },
    {
     "data": {
      "text/plain": [
       "''"
      ]
     },
     "execution_count": 12,
     "metadata": {},
     "output_type": "execute_result"
    }
   ],
   "source": [
    "# Nuzi was already edited in [9], so we'll tackle only Sennacherib.\n",
    "\n",
    "# nuzi_sample = line_tokenizer.string_tokenizer('\\n'.join(nuzi))\n",
    "sennacherib_sample = line_tokenizer.string_tokenizer('\\n'.join(sennacherib))\n",
    "\n",
    "# nuzi_fixed = word_tokenizer.tokenize('\\n'.join(nuzi_sample))\n",
    "sennacherib_fixed = word_tokenizer.tokenize('\\n'.join(sennacherib_sample[0:1]))\n",
    "\n",
    "# nuzi_signs = [word_tokenizer.tokenize_sign(x) for x in nuzi_fixed]\n",
    "sennacherib_signs = [word_tokenizer.tokenize_sign(x) for x in sennacherib_fixed]  \n",
    "\n",
    "# print(nuzi_signs)[:1]\n",
    "# print()\n",
    "print(sennacherib_signs) # Is this the correct output?\n",
    "\n",
    "# Here we can see some data trouble: Sennacherib's name is\n",
    "# spelled with sumerian logograms, but our data did not account\n",
    "# for this; our program isn't equipped to clean up data.\n",
    "; \n",
    "# You cannot refer to cells by In [#] because they will change depending on run order; one workaround is to refer to the markdown cells by inserting anchors. See https://stackoverflow.com/questions/28080066/how-to-reference-a-ipython-notebook-cell-in-markdown\n"
   ]
  },
  {
   "cell_type": "markdown",
   "metadata": {},
   "source": [
    "## Additional tools"
   ]
  },
  {
   "cell_type": "code",
   "execution_count": 13,
   "metadata": {},
   "outputs": [
    {
     "data": {
      "text/plain": [
       "[('V', 1, 'i'),\n",
       " ('C', 1, 'p'),\n",
       " ('V', 2, 'a'),\n",
       " ('C', 2, 'r'),\n",
       " ('C', 2, 'r'),\n",
       " ('V', 2, 'a'),\n",
       " ('C', 3, 's')]"
      ]
     },
     "execution_count": 13,
     "metadata": {},
     "output_type": "execute_result"
    }
   ],
   "source": [
    "# Further down the pipeline, we have a few smaller tests for normalized akkadian.\n",
    "\n",
    "## Syllabifier\n",
    "\n",
    "from cltk.stem.akkadian.syllabifier import Syllabifier\n",
    "\n",
    "word = \"epištašu\"\n",
    "syll = Syllabifier()\n",
    "syll.syllabify(word)\n",
    "\n",
    "## Decliner\n",
    "\n",
    "from cltk.stem.akkadian.declension import NaiveDecliner\n",
    "\n",
    "word = 'ilum'\n",
    "decliner = NaiveDecliner()\n",
    "decliner.decline_noun(word, 'm')\n",
    "\n",
    "## Stresser\n",
    "\n",
    "from cltk.phonology.akkadian.stress import StressFinder\n",
    "stresser = StressFinder()\n",
    "word = \"šarrātim\"\n",
    "stresser.find_stress(word)\n",
    "\n",
    "## Stems and Bound Forms\n",
    "from cltk.stem.akkadian.stem import Stemmer\n",
    "from cltk.stem.akkadian.bound_form import BoundForm\n",
    "stemmer = Stemmer()\n",
    "bound_former = BoundForm()\n",
    "s_word = \"ilātim\"\n",
    "b_word = \"kalbim\"\n",
    "stemmer.get_stem(word, 'f')\n",
    "bound_former.get_bound_form(word, 'm')\n",
    "\n",
    "## Consonant Vowel Parser\n",
    "\n",
    "from cltk.stem.akkadian.cv_pattern import CVPattern\n",
    "cv_patterner = CVPattern()\n",
    "word = \"iparras\"\n",
    "cv_patterner.get_cv_pattern(word)\n",
    "\n",
    "# Place in their own cells so that audience members can run them one at a time and see the function/output of each"
   ]
  },
  {
   "cell_type": "markdown",
   "metadata": {},
   "source": [
    "## Sample Text Analyses & Visualizations"
   ]
  },
  {
   "cell_type": "markdown",
   "metadata": {},
   "source": [
    "### Sign Frequency Analysis"
   ]
  },
  {
   "cell_type": "code",
   "execution_count": 14,
   "metadata": {},
   "outputs": [
    {
     "name": "stdout",
     "output_type": "stream",
     "text": [
      "[(('a', 'akkadian'), 85),\n",
      " (('na', 'akkadian'), 32),\n",
      " (('disz', 'determinative'), 26),\n",
      " (('dumu', 'sumerian'), 24),\n",
      " (('igi', 'sumerian'), 24),\n",
      " (('sze', 'akkadian'), 19),\n",
      " (('ni', 'akkadian'), 16),\n",
      " (('ri', 'akkadian'), 14),\n",
      " (('sza', 'akkadian'), 13),\n",
      " (('munus', 'determinative'), 13),\n",
      " (('i', 'akkadian'), 13),\n",
      " (('wa', 'akkadian'), 12),\n",
      " (('ma', 'akkadian'), 12),\n",
      " (('te', 'akkadian'), 11),\n",
      " (('wi', 'akkadian'), 10)]\n"
     ]
    }
   ],
   "source": [
    "from cltk.stem.akkadian.atf_converter import ATFConverter\n",
    "from collections import Counter\n",
    "\n",
    "toto_signs = []\n",
    "\n",
    "lines = [line_tokenizer.string_tokenizer(text, include_blanks=False)\n",
    "        for text in nuzi]\n",
    "words = [word_tokenizer.tokenize(line[0]) for line in lines]\n",
    "\n",
    "for signs in words:\n",
    "    individual_words = [word_tokenizer.tokenize_sign(a) for a in signs]\n",
    "    individual_signs = [c for b in individual_words for c in b]\n",
    "    for count in individual_signs:\n",
    "        toto_signs.append(count)\n",
    "\n",
    "frequency_analysis = Counter(toto_signs).most_common(15)\n",
    "pprint(frequency_analysis)\n",
    "\n",
    "# Definitely translations here, esp. for the top words"
   ]
  },
  {
   "cell_type": "markdown",
   "metadata": {},
   "source": [
    "### Counting Tokens"
   ]
  },
  {
   "cell_type": "code",
   "execution_count": 15,
   "metadata": {},
   "outputs": [],
   "source": [
    "from collections import Counter"
   ]
  },
  {
   "cell_type": "code",
   "execution_count": 16,
   "metadata": {},
   "outputs": [],
   "source": [
    "# Chance to include picture of Taylor's prism—https://en.wikipedia.org/wiki/Sennacherib%27s_Annals#/media/File:Taylor_Prism-1.jpg? Would make a strong connection between the material and digital."
   ]
  },
  {
   "cell_type": "markdown",
   "metadata": {},
   "source": [
    "<img src=\"https://upload.wikimedia.org/wikipedia/commons/d/de/Taylor_Prism-1.jpg\" alt=\"Taylor's Prism from the British Museum\" align=\"left\" style=\"width: 200px;\"/>"
   ]
  },
  {
   "cell_type": "markdown",
   "metadata": {},
   "source": [
    "Public domain photo by David Castor via [Wikimedia](https://upload.wikimedia.org/wikipedia/commons/d/de/Taylor_Prism-1.jpg)."
   ]
  },
  {
   "cell_type": "markdown",
   "metadata": {},
   "source": [
    "<img src=\"https://www.britishmuseum.org/collectionimages/AN01015/AN01015592_001_l.jpg\" alt=\"Detail, Taylor's Prism from the British Museum\" align=\"left\"/>"
   ]
  },
  {
   "cell_type": "markdown",
   "metadata": {},
   "source": [
    "Photo via [British Museum](https://www.britishmuseum.org/research/collection_online/collection_object_details/collection_image_gallery.aspx?partid=1&assetid=1015592001&objectid=295077) (BM 91032; CC BY-NC-SA 4.0)."
   ]
  },
  {
   "cell_type": "code",
   "execution_count": 17,
   "metadata": {},
   "outputs": [
    {
     "name": "stdout",
     "output_type": "stream",
     "text": [
      "Top 25 words in the Taylor's Prism:\n",
      "\n",
      "       TOKEN                    COUNT       TOKEN %     RUNNING %   \n",
      "    1. i-na                      88          3.41%       3.41%       \n",
      "    2. sza                       85          3.29%       6.71%       \n",
      "    3. a-na                      72          2.79%       9.5%        \n",
      "    4. u3                        57          2.21%       11.71%      \n",
      "    5. la                        33          1.28%       12.98%      \n",
      "    6. _lugal_                   21          0.81%       13.8%       \n",
      "    7. a-di                      20          0.78%       14.57%      \n",
      "    8. qe2-reb                   20          0.78%       15.35%      \n",
      "    9. {d}asz-szur               15          0.58%       15.93%      \n",
      "   10. ul-tu                     15          0.58%       16.51%      \n",
      "   11. ger-ri-ia                 14          0.54%       17.05%      \n",
      "   12. _kur_                     14          0.54%       17.6%       \n",
      "   13. {kur}elam-ma{ki}          11          0.43%       18.02%      \n",
      "   14. asz-szur{ki}              10          0.39%       18.41%      \n",
      "   15. asz2-lu-la                10          0.39%       18.8%       \n",
      "   16. _iri-mesz_-szu2           9           0.35%       19.15%      \n",
      "   17. dan-nu-ti                 9           0.35%       19.5%       \n",
      "   18. _kur_-ud                  9           0.35%       19.84%      \n",
      "   19. pa-an                     9           0.35%       20.19%      \n",
      "   20. be-lu-ti-ia               9           0.35%       20.54%      \n",
      "   21. ki-ma                     8           0.31%       20.85%      \n",
      "   22. am-nu                     8           0.31%       21.16%      \n",
      "   23. al-me                     8           0.31%       21.47%      \n",
      "   24. lu                        8           0.31%       21.78%      \n",
      "   25. _ug3-mesz                 8           0.31%       22.09%      \n"
     ]
    }
   ],
   "source": [
    "sennacherib_tokens = word_tokenizer.tokenize(\n",
    "    '\\n'.join(sennacherib_sample))\n",
    "s_tokens = [word[0] for word in sennacherib_tokens]\n",
    "word_count = Counter(s_tokens)\n",
    "\n",
    "running = 0\n",
    "\n",
    "print(\"Top 25 words in the Taylor's Prism:\\n\")\n",
    "print(\"{number:>5}  {word:<20}     {count:<12}{percent:<12}{running:<12}\". \\\n",
    "        format(number=\"\", word=\"TOKEN\", count=\"COUNT\", percent=\"TOKEN %\", running = \"RUNNING %\"))\n",
    "for i, pair in enumerate(word_count.most_common(25)):\n",
    "    running += pair[1]\n",
    "    print(\"{number:>5}. {word:<20}      {count:<12}{percent:<12}{running:<12}\". \\\n",
    "        format(number=i+1, word=pair[0], count=pair[1], \\\n",
    "        percent=str(round(pair[1] / len(s_tokens)*100, 2))+\"%\", running = str(round(running / len(s_tokens)*100, 2))+\"%\"))"
   ]
  },
  {
   "cell_type": "markdown",
   "metadata": {},
   "source": [
    "### KWIC"
   ]
  },
  {
   "cell_type": "code",
   "execution_count": 18,
   "metadata": {},
   "outputs": [],
   "source": [
    "### ANDREW\n",
    "#\n",
    "# There is some direct CLTK ways of doing some of the activities, but NLTK Text does a good job for showing\n",
    "# things like KWIC, distribution plots; should work for your texts too\n",
    "#\n",
    "###"
   ]
  },
  {
   "cell_type": "code",
   "execution_count": 19,
   "metadata": {},
   "outputs": [],
   "source": [
    "from nltk import Text"
   ]
  },
  {
   "cell_type": "code",
   "execution_count": 20,
   "metadata": {},
   "outputs": [
    {
     "name": "stdout",
     "output_type": "stream",
     "text": [
      "Displaying 21 of 21 matches:\n",
      "zu-szesz-mesz-eri-ba _lugal gal_-u2 _lugal_ dan-nu _lugal_ kisz-sza2-ti _lugal \n",
      "ri-ba _lugal gal_-u2 _lugal_ dan-nu _lugal_ kisz-sza2-ti _lugal kur_ asz-szur{k\n",
      "sz-sza2-ti _lugal kur_ asz-szur{ki} _lugal_ kib-rat _limmu2_-tim _re-e2-um_ it-\n",
      "r-ri-ia sza {disz}{d}mes-a-szum2-na _lugal_ {kur}kar2-{d}dun-ia2-asz3 a-di _eri\n",
      "{kur}hat-ti lu al-lik {disz}lu-li-i _lugal_ {iri}s,i-du-un-ni pul-hi me-lam-me \n",
      "_giri3-min_-ia u3 {disz}s,i-id-qa-a _lugal_ {iri}is-qa-al-lu-na sza la ik-nu-sz\n",
      "z}gigir-mesz ansze-kur-ra-mesz_ sza _lugal_ {kur}me-luh-hi e-mu-qi2 la ni-bi ik\n",
      "a-di _{lu2}en {gesz}gigir-mesz_ sza _lugal_ {kur}me-luh-hi bal-t,u-su-un i-na _\n",
      "u2 ab-tuq-ma a-na {disz}mi-ti-in-ti _lugal_ {iri}as-du-di {disz}pa-di-i _lugal_\n",
      "_lugal_ {iri}as-du-di {disz}pa-di-i _lugal_ {iri}am-qar-ru-na u3 {disz}gissu-en\n",
      "{iri}am-qar-ru-na u3 {disz}gissu-en _lugal_ {iri}ha-zi-ti ad-din-ma u2-s,a-ah-h\n",
      "-me kar-mesz _ugu en_ sa-li-me-szu2 _lugal_ {kur}elam-ma{ki} na-mur-ra-tum at-b\n",
      "a u2-ter-ma s,e-er {disz}ma-ni-ia-e _lugal_ {iri}uk-ki szad-da-a-a-e la kan-sze\n",
      "gir-mesz_-szu2-nu u3 _ug3-mesz_ sza _lugal_ {kur}elam-ma{ki} asz2-lu-lam-ma la \n",
      " _kur_ asz-szur{ki} u2-ra-asz2-szu2 _lugal_ {kur}elam-ma{ki} sza _a2-min_-szu2 \n",
      "en_-ia {disz}nig2-du-{d}na-hu-un-du _lugal_ {kur}elam-ma{ki} 3(disz) _iti-mesz_\n",
      "e-s,u-ni a-na {disz}um-man-me-na-nu _lugal_ {kur}elam-ma{ki} sza la i-szu-u2 t,\n",
      "di {disz}szu-zu-bi {lu2}kal-da3-a-a _lugal_ babila2{ki} a-na a-ha-mesz iq-ru-bu\n",
      "m-ban-un-da-sza2 _{lu2}nimgir2_ sza _lugal_ {kur}elam-ma{ki} et,-lum pit-qu-du \n",
      "u-us szu-u2 {disz}um-ma-an-me-na-nu _lugal_ {kur}elam-ma{ki} a-di _lugal_ babil\n",
      "na-nu _lugal_ {kur}elam-ma{ki} a-di _lugal_ babila2{ki} {lu2}na-sik-ka-ni sza {\n"
     ]
    }
   ],
   "source": [
    "Sennacherib_Text = Text(s_tokens) # Note that Text takes a list of tokens as its input\n",
    "Sennacherib_Text.concordance('_lugal_')"
   ]
  },
  {
   "cell_type": "markdown",
   "metadata": {},
   "source": [
    "### Dispersion Plot"
   ]
  },
  {
   "cell_type": "code",
   "execution_count": 21,
   "metadata": {},
   "outputs": [],
   "source": [
    "%matplotlib inline  \n",
    "import matplotlib.pyplot as plt"
   ]
  },
  {
   "cell_type": "code",
   "execution_count": 22,
   "metadata": {},
   "outputs": [
    {
     "data": {
      "text/plain": [
       "<Text: {disz}{d}en-zu-szesz-mesz-eri-ba _lugal gal_-u2 _lugal_ dan-nu _lugal_ kisz-sza2-ti _lugal...>"
      ]
     },
     "execution_count": 22,
     "metadata": {},
     "output_type": "execute_result"
    }
   ],
   "source": [
    "Sennacherib_Text"
   ]
  },
  {
   "cell_type": "code",
   "execution_count": 23,
   "metadata": {
    "scrolled": true
   },
   "outputs": [
    {
     "data": {
      "image/png": "[encoded data removed]",
      "text/plain": [
       "<Figure size 1440x360 with 1 Axes>"
      ]
     },
     "metadata": {
      "needs_background": "light"
     },
     "output_type": "display_data"
    }
   ],
   "source": [
    "plt.figure(figsize=(20, 5))\n",
    "Sennacherib_Text.dispersion_plot(['_lugal_', 'asz-szur{ki}', '{kur}elam-ma{ki}'])"
   ]
  },
  {
   "cell_type": "markdown",
   "metadata": {},
   "source": [
    "### Graphed Frequency Distribution"
   ]
  },
  {
   "cell_type": "code",
   "execution_count": 24,
   "metadata": {},
   "outputs": [
    {
     "data": {
      "image/png": "[encoded data removed]",
      "text/plain": [
       "<Figure size 1440x720 with 1 Axes>"
      ]
     },
     "metadata": {
      "needs_background": "light"
     },
     "output_type": "display_data"
    }
   ],
   "source": [
    "from nltk.probability import FreqDist\n",
    "\n",
    "fdist = FreqDist(Sennacherib_Text)\n",
    "\n",
    "plt.figure(figsize=(20, 10))\n",
    "fdist.plot(50, cumulative=True)\n",
    "\n",
    "# Looks like it follows Zipfs Law; maybe worth a mention. cf. https://en.wikipedia.org/wiki/Zipf%27s_law"
   ]
  },
  {
   "cell_type": "markdown",
   "metadata": {},
   "source": [
    "## Working with other CLTK Languages"
   ]
  },
  {
   "cell_type": "markdown",
   "metadata": {},
   "source": [
    "### Working with Ancient Greek in CLTK"
   ]
  },
  {
   "cell_type": "code",
   "execution_count": 25,
   "metadata": {},
   "outputs": [],
   "source": [
    "import re\n",
    "import requests\n",
    "\n",
    "response = requests.get('https://raw.githubusercontent.com/tesserae/tesserae/master/texts/grc/homer.iliad/homer.iliad.part.1.tess')\n",
    "iliad = response.text"
   ]
  },
  {
   "cell_type": "code",
   "execution_count": 26,
   "metadata": {},
   "outputs": [
    {
     "name": "stdout",
     "output_type": "stream",
     "text": [
      "<hom. il. 1.1>\tμῆνιν ἄειδε θεὰ Πηληϊάδεω ̓Αχιλῆος\n",
      "<hom. il. 1.2>\tοὐλομένην, ἣ μυρί' ̓Αχα\n"
     ]
    }
   ],
   "source": [
    "print(iliad[:100])"
   ]
  },
  {
   "cell_type": "code",
   "execution_count": 27,
   "metadata": {},
   "outputs": [
    {
     "name": "stdout",
     "output_type": "stream",
     "text": [
      "μῆνιν ἄειδε θεὰ Πηληϊάδεω ̓Αχιλῆος\n",
      "οὐλομένην, ἣ μυρί' ̓Αχαιοῖς ἄλγε' ἔθηκε,\n",
      "πολλὰς\n"
     ]
    }
   ],
   "source": [
    "iliad = re.sub(r'<.+?>\\t', '', iliad)\n",
    "print(iliad[:100])"
   ]
  },
  {
   "cell_type": "code",
   "execution_count": 28,
   "metadata": {},
   "outputs": [],
   "source": [
    "import unicodedata\n",
    "\n",
    "iliad = unicodedata.normalize('NFC', iliad)"
   ]
  },
  {
   "cell_type": "code",
   "execution_count": 29,
   "metadata": {},
   "outputs": [
    {
     "name": "stdout",
     "output_type": "stream",
     "text": [
      "['μῆνιν', 'ἄειδε', 'θεὰ', 'Πηληϊάδεω', '̓Αχιλῆος', 'οὐλομένην', ',', 'ἣ', 'μυρί', \"'\", '̓Αχαιοῖς', 'ἄλγε', \"'\", 'ἔθηκε', ',', 'πολλὰς', 'δ', \"'\", 'ἰφθίμους', 'ψυχὰς', '̓́Αϊδι', 'προί̈αψεν', 'ἡρώων', ',', 'αὐτοὺς', 'δὲ', 'ἑλώρια', 'τεῦχε', 'κύνεσσιν', 'οἰωνοῖσί', 'τε', 'πᾶσι', ',', 'Διὸς', 'δ', \"'\", 'ἐτελείετο', 'βουλή', ',', 'ἐξ', 'οὗ', 'δὴ', 'τὰ', 'πρῶτα', 'διαστήτην', 'ἐρίσαντε', '̓Ατρεί̈δης', 'τε', 'ἄναξ', 'ἀνδρῶν', 'καὶ', 'δῖος', '̓Αχιλλεύς', '.', 'τίς', 'τ', \"'\", 'ἄρ', 'σφωε', 'θεῶν', 'ἔριδι', 'ξυνέηκε', 'μάχεσθαι', ';', 'Λητοῦς', 'καὶ', 'Διὸς', 'υἱός', ':', 'ὃ', 'γὰρ', 'βασιλῆϊ', 'χολωθεὶς', 'νοῦσον', 'ἀνὰ', 'στρατὸν', 'ὄρσε', 'κακήν', ',', 'ὀλέκοντο', 'δὲ', 'λαοί', ',', 'οὕνεκα', 'τὸν', 'Χρύσην', 'ἠτίμασεν', 'ἀρητῆρα', '̓Ατρεί̈δης', ':', 'ὃ', 'γὰρ', 'ἦλθε', 'θοὰς', 'ἐπὶ', 'νῆας', '̓Αχαιῶν', 'λυσόμενός', 'τε', 'θύγατρα']\n"
     ]
    }
   ],
   "source": [
    "from cltk.tokenize.word import WordTokenizer\n",
    "\n",
    "word_tokenizer_greek = WordTokenizer('greek')\n",
    "tokens = word_tokenizer_greek.tokenize(iliad)\n",
    "print(tokens[:100])"
   ]
  },
  {
   "cell_type": "code",
   "execution_count": 30,
   "metadata": {},
   "outputs": [
    {
     "name": "stdout",
     "output_type": "stream",
     "text": [
      "['μῆνιν ἄειδε θεὰ Πηληϊάδεω ̓Αχιλῆος',\n",
      " \"οὐλομένην, ἣ μυρί' ̓Αχαιοῖς ἄλγε' ἔθηκε,\",\n",
      " \"πολλὰς δ' ἰφθίμους ψυχὰς ̓́Αϊδι προί̈αψεν\",\n",
      " 'ἡρώων, αὐτοὺς δὲ ἑλώρια τεῦχε κύνεσσιν',\n",
      " \"οἰωνοῖσί τε πᾶσι, Διὸς δ' ἐτελείετο βουλή,\"]\n"
     ]
    }
   ],
   "source": [
    "from cltk.tokenize.line import LineTokenizer\n",
    "\n",
    "line_tokenizer = LineTokenizer('greek')\n",
    "lines = line_tokenizer.tokenize(iliad)\n",
    "pprint(lines[:5])"
   ]
  },
  {
   "cell_type": "code",
   "execution_count": 31,
   "metadata": {},
   "outputs": [
    {
     "data": {
      "text/plain": [
       "[('μῆνιν', 'N-S---FA-'),\n",
       " ('ἄειδε', 'V2SPMA---'),\n",
       " ('θεὰ', 'N-S---FV-'),\n",
       " ('Πηληϊάδεω', None),\n",
       " ('̓', None),\n",
       " ('Αχιλῆος', None)]"
      ]
     },
     "execution_count": 31,
     "metadata": {},
     "output_type": "execute_result"
    }
   ],
   "source": [
    "from cltk.tag.pos import POSTag\n",
    "tagger = POSTag('greek')\n",
    "\n",
    "tagger.tag_ngram_123_backoff(lines[0])"
   ]
  },
  {
   "cell_type": "code",
   "execution_count": 32,
   "metadata": {},
   "outputs": [],
   "source": [
    "# I will add a Latin block (or some second language)"
   ]
  }
 ],
 "metadata": {
  "kernelspec": {
   "display_name": "Python 3",
   "language": "python",
   "name": "python3"
  },
  "language_info": {
   "codemirror_mode": {
    "name": "ipython",
    "version": 3
   },
   "file_extension": ".py",
   "mimetype": "text/x-python",
   "name": "python",
   "nbconvert_exporter": "python",
   "pygments_lexer": "ipython3",
   "version": "3.7.3"
  }
 },
 "nbformat": 4,
 "nbformat_minor": 2
}
